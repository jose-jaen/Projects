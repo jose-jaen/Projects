{
 "cells": [
  {
   "cell_type": "markdown",
   "id": "1520d8a6",
   "metadata": {},
   "source": [
    "# Codeforces "
   ]
  },
  {
   "cell_type": "markdown",
   "id": "5ecb6727",
   "metadata": {},
   "source": [
    "The present Jupyter Notebook provides solutions to some Codeforces programming problems. \\\n",
    "Whenever input() is used we assume the user will not misbehave unless explicitly pointed out."
   ]
  },
  {
   "cell_type": "markdown",
   "id": "21e8d59d",
   "metadata": {},
   "source": [
    "## Problem 1: Watermelon"
   ]
  },
  {
   "cell_type": "markdown",
   "id": "b6d28a04",
   "metadata": {},
   "source": [
    "Identify if it is possible to divide the watermelon in such a way that each of the two parts weights an even number of kilos"
   ]
  },
  {
   "cell_type": "code",
   "execution_count": 1,
   "id": "35cb89cf",
   "metadata": {},
   "outputs": [
    {
     "name": "stdout",
     "output_type": "stream",
     "text": [
      "Enter the weight of the watermelon: 8\n",
      "YES\n"
     ]
    }
   ],
   "source": [
    "w = int(input('Enter the weight of the watermelon: '))\n",
    "\n",
    "print('YES') if (w % 2 == 0 and w != 2) else print('NO')"
   ]
  },
  {
   "cell_type": "markdown",
   "id": "50c21fe2",
   "metadata": {},
   "source": [
    "## Problem 2: Way Too Long Words"
   ]
  },
  {
   "cell_type": "markdown",
   "id": "bade4187",
   "metadata": {},
   "source": [
    "Enter a word, if its length is strictly greater than 10 characters then the first and last letter are returned. Between them the number of letters from the first one to the final one (not included) is displayed"
   ]
  },
  {
   "cell_type": "code",
   "execution_count": 2,
   "id": "e40715e2",
   "metadata": {},
   "outputs": [
    {
     "name": "stdout",
     "output_type": "stream",
     "text": [
      "Introduce a word: internationalization\n"
     ]
    },
    {
     "data": {
      "text/plain": [
       "'i18n'"
      ]
     },
     "execution_count": 2,
     "metadata": {},
     "output_type": "execute_result"
    }
   ],
   "source": [
    "x = input('Introduce a word: ')\n",
    "\n",
    "if len(x) > 10:\n",
    "    letra = x[0] + str(len(x) - 2) + x[len(x) - 1]\n",
    "else:\n",
    "    letra = x\n",
    "    \n",
    "letra"
   ]
  },
  {
   "cell_type": "markdown",
   "id": "272827e5",
   "metadata": {},
   "source": [
    "## Problem 3: Team"
   ]
  },
  {
   "cell_type": "markdown",
   "id": "56b9fd67",
   "metadata": {},
   "source": [
    "Three friends vote on submitting a solution to a programming problem. Only if at least two of them are sure about it (represented by 1) will they upload their script. We know count how many problems they put up"
   ]
  },
  {
   "cell_type": "code",
   "execution_count": 3,
   "id": "34d3e39f",
   "metadata": {},
   "outputs": [
    {
     "name": "stdout",
     "output_type": "stream",
     "text": [
      "Enter number of problems and individual decisions: 3 1 1 0 1 1 1 1 0 0\n",
      "The number of problems the friends will implement on the contest is: 2\n"
     ]
    }
   ],
   "source": [
    "import numpy as np\n",
    "\n",
    "x = [int(x) for x in input('Enter number of problems and individual decisions: ').split()]\n",
    "\n",
    "y = np.array(x[1:len(x)])\n",
    "\n",
    "b = np.reshape(y, (x[0], 3))\n",
    "\n",
    "cont = 0\n",
    "for i in range(np.shape(b)[0]):\n",
    "    if sum(b[i,]) >= 2:\n",
    "        cont += 1\n",
    "    \n",
    "print('The number of problems the friends will implement on the contest is:', cont)"
   ]
  },
  {
   "cell_type": "markdown",
   "id": "80e773fb",
   "metadata": {},
   "source": [
    "## Problem 4: Next Round"
   ]
  },
  {
   "cell_type": "markdown",
   "id": "d5e3484e",
   "metadata": {},
   "source": [
    "We are given the number of participants in a contest (n), along with how many of them advance towards the next round (k). Their scores are displayed and we shall identify how many of them make it to the next phase based on their scores: if there is a tie between the k-th and k+1-th place then both are allowed to continue"
   ]
  },
  {
   "cell_type": "code",
   "execution_count": 4,
   "id": "e3992ad0",
   "metadata": {},
   "outputs": [
    {
     "name": "stdout",
     "output_type": "stream",
     "text": [
      "Enter participants, winners and scores: 8 5 10 9 8 7 7 7 5 5\n",
      "6 participants made it to the next round!\n"
     ]
    }
   ],
   "source": [
    "import numpy as np\n",
    "\n",
    "x = [int(x) for x in input('Enter participants, winners and scores: ').split()]\n",
    "\n",
    "k = x[1] ; s = x[2:len(x)]\n",
    "\n",
    "lista = [] ; i = 0\n",
    "while i < k and s[i] != 0:\n",
    "    lista.append(s[i])\n",
    "    i += 1\n",
    "\n",
    "(lista.append(s[k]) if (lista[len(lista) - 1] == s[k] and s[k] != 0) else lista) if len(lista) != 0 else lista\n",
    "    \n",
    "print(len(lista), 'participants made it to the next round!')"
   ]
  }
 ],
 "metadata": {
  "interpreter": {
   "hash": "31f2aee4e71d21fbe5cf8b01ff0e069b9275f58929596ceb00d14d90e3e16cd6"
  },
  "kernelspec": {
   "display_name": "Python 3 (ipykernel)",
   "language": "python",
   "name": "python3"
  },
  "language_info": {
   "codemirror_mode": {
    "name": "ipython",
    "version": 3
   },
   "file_extension": ".py",
   "mimetype": "text/x-python",
   "name": "python",
   "nbconvert_exporter": "python",
   "pygments_lexer": "ipython3",
   "version": "3.9.0"
  }
 },
 "nbformat": 4,
 "nbformat_minor": 5
}
