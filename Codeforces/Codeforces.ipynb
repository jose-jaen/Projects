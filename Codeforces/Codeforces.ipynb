{
 "cells": [
  {
   "cell_type": "markdown",
   "id": "1520d8a6",
   "metadata": {},
   "source": [
    "# Codeforces "
   ]
  },
  {
   "cell_type": "markdown",
   "id": "5ecb6727",
   "metadata": {},
   "source": [
    "The present Jupyter Notebook provides solutions to some Codeforces programming problems. \\\n",
    "Whenever input() is used we assume the user will not misbehave unless explicitly pointed out."
   ]
  },
  {
   "cell_type": "markdown",
   "id": "21e8d59d",
   "metadata": {},
   "source": [
    "## Problem 1: Watermelon"
   ]
  },
  {
   "cell_type": "markdown",
   "id": "b6d28a04",
   "metadata": {},
   "source": [
    "Identify if it is possible to divide the watermelon in such a way that each of the two parts weights an even number of kilos"
   ]
  },
  {
   "cell_type": "code",
   "execution_count": 1,
   "id": "35cb89cf",
   "metadata": {},
   "outputs": [
    {
     "name": "stdout",
     "output_type": "stream",
     "text": [
      "Enter the weight of the watermelon: 8\n",
      "YES\n"
     ]
    }
   ],
   "source": [
    "w = int(input('Enter the weight of the watermelon: '))\n",
    "\n",
    "print('YES') if (w % 2 == 0 and w != 2) else print('NO')"
   ]
  },
  {
   "cell_type": "markdown",
   "id": "50c21fe2",
   "metadata": {},
   "source": [
    "## Problem 2: Way Too Long Words"
   ]
  },
  {
   "cell_type": "markdown",
   "id": "bade4187",
   "metadata": {},
   "source": [
    "Enter a word, if its length is strictly greater than 10 characters then the first and last letter are returned. Between them the number of letters from the first one to the final one (not included) is displayed"
   ]
  },
  {
   "cell_type": "code",
   "execution_count": 2,
   "id": "e40715e2",
   "metadata": {},
   "outputs": [
    {
     "name": "stdout",
     "output_type": "stream",
     "text": [
      "Introduce a word: internationalization\n"
     ]
    },
    {
     "data": {
      "text/plain": [
       "'i18n'"
      ]
     },
     "execution_count": 2,
     "metadata": {},
     "output_type": "execute_result"
    }
   ],
   "source": [
    "x = input('Introduce a word: ')\n",
    "\n",
    "if len(x) > 10:\n",
    "    letra = x[0] + str(len(x) - 2) + x[len(x) - 1]\n",
    "else:\n",
    "    letra = x\n",
    "    \n",
    "print(letra)"
   ]
  },
  {
   "cell_type": "markdown",
   "id": "272827e5",
   "metadata": {},
   "source": [
    "## Problem 3: Team"
   ]
  },
  {
   "cell_type": "markdown",
   "id": "56b9fd67",
   "metadata": {},
   "source": [
    "Three friends vote on submitting a solution to a programming problem. Only if at least two of them are sure about it (represented by 1) will they upload their script. We know count how many problems they put up"
   ]
  },
  {
   "cell_type": "code",
   "execution_count": 3,
   "id": "34d3e39f",
   "metadata": {},
   "outputs": [
    {
     "name": "stdout",
     "output_type": "stream",
     "text": [
      "Enter number of problems and individual decisions: 3 1 1 0 1 1 1 1 0 0\n",
      "The number of problems the friends will implement on the contest is: 2\n"
     ]
    }
   ],
   "source": [
    "import numpy as np\n",
    "\n",
    "x = [int(x) for x in input('Enter number of problems and individual decisions: ').split()]\n",
    "\n",
    "y = np.array(x[1:len(x)])\n",
    "\n",
    "b = np.reshape(y, (x[0], 3))\n",
    "\n",
    "cont = 0\n",
    "for i in range(np.shape(b)[0]):\n",
    "    if sum(b[i,]) >= 2:\n",
    "        cont += 1\n",
    "    \n",
    "print('The number of problems the friends will implement on the contest is:', cont)"
   ]
  },
  {
   "cell_type": "markdown",
   "id": "80e773fb",
   "metadata": {},
   "source": [
    "## Problem 4: Next Round"
   ]
  },
  {
   "cell_type": "markdown",
   "id": "d5e3484e",
   "metadata": {},
   "source": [
    "We are given the number of participants in a contest (n), along with how many of them advance towards the next round (k). Their scores are displayed and we shall identify how many of them make it to the next phase based on their scores: if there is a tie between the k-th and k+1-th place then both are allowed to continue"
   ]
  },
  {
   "cell_type": "code",
   "execution_count": 4,
   "id": "e3992ad0",
   "metadata": {},
   "outputs": [
    {
     "name": "stdout",
     "output_type": "stream",
     "text": [
      "Enter participants, winners and scores: 8 5 10 9 8 7 7 7 5 5\n",
      "6 participants made it to the next round!\n"
     ]
    }
   ],
   "source": [
    "import numpy as np\n",
    "\n",
    "x = [int(x) for x in input('Enter participants, winners and scores: ').split()]\n",
    "\n",
    "k = x[1] ; s = x[2:len(x)]\n",
    "\n",
    "lista = [] ; i = 0\n",
    "\n",
    "while i < k and s[i] != 0:\n",
    "    lista.append(s[i])\n",
    "    i += 1\n",
    "\n",
    "(lista.append(s[k]) if (lista[len(lista) - 1] == s[k] and s[k] != 0) else lista) if len(lista) != 0 else lista\n",
    "    \n",
    "print(len(lista), 'participants made it to the next round!')"
   ]
  },
  {
   "cell_type": "markdown",
   "id": "0c46d3ae",
   "metadata": {},
   "source": [
    "## Problem 5: Domino Piling"
   ]
  },
  {
   "cell_type": "markdown",
   "id": "a6c663ce",
   "metadata": {},
   "source": [
    "Given a rectangular board, identify how many 2x1 domino pieces can fit together"
   ]
  },
  {
   "cell_type": "code",
   "execution_count": 5,
   "id": "4db4288c",
   "metadata": {},
   "outputs": [
    {
     "name": "stdout",
     "output_type": "stream",
     "text": [
      "Enter dimension of the board: 3 3\n"
     ]
    },
    {
     "data": {
      "text/plain": [
       "4"
      ]
     },
     "execution_count": 5,
     "metadata": {},
     "output_type": "execute_result"
    }
   ],
   "source": [
    "import math\n",
    "\n",
    "x = [int(x) for x in input('Enter dimension of the board: ').split()]\n",
    "\n",
    "area = x[0]*x[1]\n",
    "\n",
    "area/2 if area % 2 == 0 else math.trunc(area/2)"
   ]
  },
  {
   "cell_type": "markdown",
   "id": "3d0de095",
   "metadata": {},
   "source": [
    "## Problem 6: Bit++"
   ]
  },
  {
   "cell_type": "markdown",
   "id": "e6232780",
   "metadata": {},
   "source": [
    "Bit++ is a language consisting of X's and plus or minus signs. In the presence of '++' 1 is added to the intial null value, 1 is subtracted otherwise. We now get the total result for each Bit++ phrase"
   ]
  },
  {
   "cell_type": "code",
   "execution_count": 6,
   "id": "a083a26f",
   "metadata": {},
   "outputs": [
    {
     "name": "stdout",
     "output_type": "stream",
     "text": [
      "Enter number of statements and subsequent operations: 2 X++ --X\n",
      "0\n"
     ]
    }
   ],
   "source": [
    "x = input('Enter number of statements and subsequent operations: ').split()\n",
    "\n",
    "y = 0\n",
    "\n",
    "for i in x[1:len(x)]:\n",
    "    if '++' in i:\n",
    "        y += 1\n",
    "    else:\n",
    "        y -= 1\n",
    "\n",
    "print(y)"
   ]
  },
  {
   "cell_type": "markdown",
   "id": "4a359444",
   "metadata": {},
   "source": [
    "## Problem 7: Beautiful Matrix"
   ]
  },
  {
   "cell_type": "markdown",
   "id": "4106cbd3",
   "metadata": {},
   "source": [
    "Let a 5x5 matrix full of zeros and a single 1 represent a geographical locaiton. Given a random location for said 1, we find the closest number of moves to get to the center of the matrix"
   ]
  },
  {
   "cell_type": "code",
   "execution_count": 7,
   "id": "816a148f",
   "metadata": {},
   "outputs": [
    {
     "name": "stdout",
     "output_type": "stream",
     "text": [
      "Enter the matrix: 0 0 0 0 0 0 0 0 0 0 0 1 0 0 0 0 0 0 0 0 0 0 0 0 0\n"
     ]
    },
    {
     "data": {
      "text/plain": [
       "1"
      ]
     },
     "execution_count": 7,
     "metadata": {},
     "output_type": "execute_result"
    }
   ],
   "source": [
    "import numpy as np\n",
    "\n",
    "x = [int(x) for x in input('Enter the matrix: ').split()]\n",
    "\n",
    "m = np.reshape(x, (5, 5))\n",
    "\n",
    "for r in range(m.shape[0]):\n",
    "    for c in range(m.shape[1]):\n",
    "        if m[r, c] != 0:\n",
    "            i = r + 1 ; j = c + 1\n",
    "\n",
    "mov = np.array([i, j]) - np.array([3, 3])\n",
    "\n",
    "abs(mov[0] - mov[1])"
   ]
  },
  {
   "cell_type": "markdown",
   "id": "b6747197",
   "metadata": {},
   "source": [
    "## Problem 8: Petya and Strings"
   ]
  },
  {
   "cell_type": "markdown",
   "id": "a4079741",
   "metadata": {},
   "source": [
    "Given two strings, we determine which one is lexicographically larger. If the first one is greater than the second one, we retrieve 1, if tied 0 is printed, otherwise we return -1"
   ]
  },
  {
   "cell_type": "code",
   "execution_count": 8,
   "id": "729a580a",
   "metadata": {},
   "outputs": [
    {
     "name": "stdout",
     "output_type": "stream",
     "text": [
      "Enter strings to be compared:abcdefg AbCdEfF\n"
     ]
    },
    {
     "data": {
      "text/plain": [
       "1"
      ]
     },
     "execution_count": 8,
     "metadata": {},
     "output_type": "execute_result"
    }
   ],
   "source": [
    "x = input('Enter strings to be compared:').split()\n",
    "\n",
    "y = [i.lower() for i in x]\n",
    "\n",
    "1 if y[0] > y[1] else (0 if (y[0] == y[1]) else -1) "
   ]
  },
  {
   "cell_type": "markdown",
   "id": "10bfffe4",
   "metadata": {},
   "source": [
    "## Problem 9: String Task"
   ]
  },
  {
   "cell_type": "markdown",
   "id": "76c2c8ab",
   "metadata": {},
   "source": [
    "Let us analyze a word. We remove its vowels and turn uppercase consonants to lowercase. For each consonant, a dot is introduced"
   ]
  },
  {
   "cell_type": "code",
   "execution_count": 9,
   "id": "53eb03a5",
   "metadata": {},
   "outputs": [
    {
     "name": "stdout",
     "output_type": "stream",
     "text": [
      "Enter a string:aBAcAba\n"
     ]
    },
    {
     "data": {
      "text/plain": [
       "'.b.c.b'"
      ]
     },
     "execution_count": 9,
     "metadata": {},
     "output_type": "execute_result"
    }
   ],
   "source": [
    "x = input('Enter a string:').lower()\n",
    "\n",
    "v = ['a', 'e', 'i', 'o', 'u']\n",
    "\n",
    "for i in v:\n",
    "    x = x.replace(i, '')\n",
    "\n",
    "res = []\n",
    "for i in range(len(x)):\n",
    "    res.append('.' + x[i])  \n",
    "\n",
    "''.join(res)"
   ]
  }
 ],
 "metadata": {
  "interpreter": {
   "hash": "31f2aee4e71d21fbe5cf8b01ff0e069b9275f58929596ceb00d14d90e3e16cd6"
  },
  "kernelspec": {
   "display_name": "Python 3 (ipykernel)",
   "language": "python",
   "name": "python3"
  },
  "language_info": {
   "codemirror_mode": {
    "name": "ipython",
    "version": 3
   },
   "file_extension": ".py",
   "mimetype": "text/x-python",
   "name": "python",
   "nbconvert_exporter": "python",
   "pygments_lexer": "ipython3",
   "version": "3.8.10"
  }
 },
 "nbformat": 4,
 "nbformat_minor": 5
}
