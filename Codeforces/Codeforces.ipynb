{
 "cells": [
  {
   "cell_type": "markdown",
   "id": "1520d8a6",
   "metadata": {},
   "source": [
    "# Codeforces "
   ]
  },
  {
   "cell_type": "markdown",
   "id": "5ecb6727",
   "metadata": {},
   "source": [
    "The present Jupyter Notebook provides solutions to some Codeforces programming problems. \\\n",
    "Whenever input() is used we assume the user will not misbehave unless explicitly pointed out. "
   ]
  },
  {
   "cell_type": "markdown",
   "id": "21e8d59d",
   "metadata": {},
   "source": [
    "## Problem 1: Watermelon"
   ]
  },
  {
   "cell_type": "markdown",
   "id": "b6d28a04",
   "metadata": {},
   "source": [
    "Identify if it is possible to divide the watermelon in such a way that each of the two parts weights an even number of kilos"
   ]
  },
  {
   "cell_type": "code",
   "execution_count": 1,
   "id": "35cb89cf",
   "metadata": {},
   "outputs": [
    {
     "name": "stdout",
     "output_type": "stream",
     "text": [
      "Enter the weight of the watermelon: 8\n",
      "YES\n"
     ]
    }
   ],
   "source": [
    "w = int(input('Enter the weight of the watermelon: '))\n",
    "\n",
    "print('YES') if (w % 2 == 0 and w != 2) else print('NO')"
   ]
  },
  {
   "cell_type": "markdown",
   "id": "50c21fe2",
   "metadata": {},
   "source": [
    "## Problem 2: Way Too Long Words"
   ]
  },
  {
   "cell_type": "markdown",
   "id": "bade4187",
   "metadata": {},
   "source": [
    "Enter *n* (total cases to be considered) and then some words. If the length of the *i-th* word is strictly greater than 10 characters, then the first and last letter are returned. Between them the number of letters from the first one to the final one (not included) is displayed"
   ]
  },
  {
   "cell_type": "code",
   "execution_count": 2,
   "id": "e40715e2",
   "metadata": {},
   "outputs": [
    {
     "name": "stdout",
     "output_type": "stream",
     "text": [
      "Enter number of cases and individual words: 4 word localization internationalization pneumonoultramicroscopicsilicovolcanoconiosis\n",
      "['word', 'l10n', 'i18n', 'p43s']\n"
     ]
    }
   ],
   "source": [
    "n = int(input())\n",
    " \n",
    "words = [j for j in input().split()]\n",
    "\n",
    "vec = []\n",
    " \n",
    "for word in words:\n",
    "    if len(word) > 10: \n",
    "        res = word[0] + str(len(word) - 2) + word[len(word) - 1]\n",
    "    else: \n",
    "        res = word\n",
    "    print(res)"
   ]
  },
  {
   "cell_type": "markdown",
   "id": "272827e5",
   "metadata": {},
   "source": [
    "## Problem 3: Team"
   ]
  },
  {
   "cell_type": "markdown",
   "id": "56b9fd67",
   "metadata": {},
   "source": [
    "Three friends vote on submitting a solution to a programming problem. Only if at least two of them are sure about it (represented by 1) will they upload their script. We know count how many problems they put up"
   ]
  },
  {
   "cell_type": "code",
   "execution_count": 3,
   "id": "34d3e39f",
   "metadata": {},
   "outputs": [
    {
     "name": "stdout",
     "output_type": "stream",
     "text": [
      "Enter number of problems and individual decisions: 3 1 1 0 1 1 1 1 0 0\n",
      "The number of problems the friends will implement on the contest is: 2\n"
     ]
    }
   ],
   "source": [
    "n = int(input())\n",
    " \n",
    "cont = 0\n",
    "\n",
    "s = [int(j) for j in input().split()]\n",
    "\n",
    "if sum(s) >= 2:\n",
    "    cont += 1\n",
    "    \n",
    "print('#Problems that will be submitted: ' + str(cont))"
   ]
  },
  {
   "cell_type": "markdown",
   "id": "80e773fb",
   "metadata": {},
   "source": [
    "## Problem 4: Next Round"
   ]
  },
  {
   "cell_type": "markdown",
   "id": "d5e3484e",
   "metadata": {},
   "source": [
    "We are given the number of participants in a contest (*n*), along with how many of them advance towards the next round (*k*). Their scores are displayed and we shall identify how many of them make it to the next phase based on their scores: if there is a tie between the *k*-th and *k+1*-th place then both are allowed to continue"
   ]
  },
  {
   "cell_type": "code",
   "execution_count": 4,
   "id": "e3992ad0",
   "metadata": {},
   "outputs": [
    {
     "name": "stdout",
     "output_type": "stream",
     "text": [
      "Enter participants, winners and scores: 8 5 10 9 8 7 7 7 5 5\n",
      "6 participants made it to the next round!\n"
     ]
    }
   ],
   "source": [
    "x = [int(x) for x in input('Enter participants, winners and scores: ').split()]\n",
    "\n",
    "k = x[1]  \n",
    "s = x[2:len(x)]\n",
    "\n",
    "i = 0\n",
    "lista = []\n",
    "\n",
    "while i < k and s[i] != 0: \n",
    "    lista.append(s[i])\n",
    "    i += 1\n",
    "\n",
    "    \n",
    "lista.append(s[k] if (lista[len(lista) - 1] == s[k] and s[k] != 0) else lista) if len(lista) != 0 else lista\n",
    "    \n",
    "print(len(lista), 'participants made it to the next round!')"
   ]
  },
  {
   "cell_type": "markdown",
   "id": "0c46d3ae",
   "metadata": {},
   "source": [
    "## Problem 5: Domino Piling"
   ]
  },
  {
   "cell_type": "markdown",
   "id": "a6c663ce",
   "metadata": {},
   "source": [
    "Given a rectangular board, identify how many 2x1 domino pieces can fit together"
   ]
  },
  {
   "cell_type": "code",
   "execution_count": 5,
   "id": "4db4288c",
   "metadata": {},
   "outputs": [
    {
     "name": "stdout",
     "output_type": "stream",
     "text": [
      "Enter dimension of the board: 2 4\n",
      "4.0\n"
     ]
    }
   ],
   "source": [
    "import math\n",
    "\n",
    "x = [int(x) for x in input('Enter dimension of the board: ').split()]\n",
    "\n",
    "area = x[0]*x[1]\n",
    "\n",
    "print(area/2) if area % 2 == 0 else print(math.trunc(area/2))"
   ]
  },
  {
   "cell_type": "markdown",
   "id": "3d0de095",
   "metadata": {},
   "source": [
    "## Problem 6: Bit++"
   ]
  },
  {
   "cell_type": "markdown",
   "id": "e6232780",
   "metadata": {},
   "source": [
    "Bit++ is a language consisting of X's and plus or minus signs. In the presence of '++' 1 is added to the intial null value, 1 is subtracted otherwise. We now get the total result for each Bit++ phrase"
   ]
  },
  {
   "cell_type": "code",
   "execution_count": 6,
   "id": "a083a26f",
   "metadata": {},
   "outputs": [
    {
     "name": "stdout",
     "output_type": "stream",
     "text": [
      "Enter number of statements and subsequent operations: 2 X++ --X\n",
      "0\n"
     ]
    }
   ],
   "source": [
    "x = input('Enter number of statements and subsequent operations: ').split()\n",
    "\n",
    "y = 0\n",
    "\n",
    "for i in x[1:len(x)]:\n",
    "    if '++' in i: \n",
    "        y += 1\n",
    "    else: \n",
    "        y -= 1\n",
    "        \n",
    "print(y)"
   ]
  },
  {
   "cell_type": "markdown",
   "id": "4a359444",
   "metadata": {},
   "source": [
    "## Problem 7: Beautiful Matrix"
   ]
  },
  {
   "cell_type": "markdown",
   "id": "4106cbd3",
   "metadata": {},
   "source": [
    "Let a 5x5 matrix full of zeros and a single 1 represent a geographical locaiton. Given a random location for said 1, we find the closest number of moves to get to the center of the matrix"
   ]
  },
  {
   "cell_type": "code",
   "execution_count": 7,
   "id": "816a148f",
   "metadata": {},
   "outputs": [
    {
     "name": "stdout",
     "output_type": "stream",
     "text": [
      "Enter the matrix: 0 0 0 0 0 0 0 0 0 0 0 1 0 0 0 0 0 0 0 0 0 0 0 0 0\n"
     ]
    },
    {
     "data": {
      "text/plain": [
       "1"
      ]
     },
     "execution_count": 7,
     "metadata": {},
     "output_type": "execute_result"
    }
   ],
   "source": [
    "import numpy as np\n",
    "\n",
    "x = [int(x) for x in input('Enter the matrix: ').split()]\n",
    "\n",
    "m = np.reshape(x, (5, 5))\n",
    "\n",
    "for r in range(m.shape[0]):\n",
    "    for c in range(m.shape[1]):\n",
    "        if m[r, c] != 0: \n",
    "            i = r + 1 \n",
    "            j = c + 1\n",
    "\n",
    "mov = np.array([i, j]) - np.array([3, 3])\n",
    "\n",
    "abs(mov[0] - mov[1])"
   ]
  },
  {
   "cell_type": "markdown",
   "id": "b6747197",
   "metadata": {},
   "source": [
    "## Problem 8: Petya and Strings"
   ]
  },
  {
   "cell_type": "markdown",
   "id": "a4079741",
   "metadata": {},
   "source": [
    "Given two strings, we determine which one is lexicographically larger. If the first one is greater than the second one, we retrieve 1, if tied 0 is printed, otherwise we return -1"
   ]
  },
  {
   "cell_type": "code",
   "execution_count": 8,
   "id": "729a580a",
   "metadata": {},
   "outputs": [
    {
     "name": "stdout",
     "output_type": "stream",
     "text": [
      "Enter strings to be compared:abcdefg AbCdEfF\n"
     ]
    },
    {
     "data": {
      "text/plain": [
       "1"
      ]
     },
     "execution_count": 8,
     "metadata": {},
     "output_type": "execute_result"
    }
   ],
   "source": [
    "x = input('Enter strings to be compared:').split()\n",
    "\n",
    "y = [i.lower() for i in x]\n",
    "\n",
    "1 if y[0] > y[1] else (0 if (y[0] == y[1]) else -1) "
   ]
  },
  {
   "cell_type": "markdown",
   "id": "10bfffe4",
   "metadata": {},
   "source": [
    "## Problem 9: String Task"
   ]
  },
  {
   "cell_type": "markdown",
   "id": "76c2c8ab",
   "metadata": {},
   "source": [
    "Let us analyze a word. We remove its vowels and turn uppercase consonants to lowercase. For each consonant, a dot is introduced"
   ]
  },
  {
   "cell_type": "code",
   "execution_count": 9,
   "id": "53eb03a5",
   "metadata": {},
   "outputs": [
    {
     "name": "stdout",
     "output_type": "stream",
     "text": [
      "Enter a string:aBAcAba\n"
     ]
    },
    {
     "data": {
      "text/plain": [
       "'.b.c.b'"
      ]
     },
     "execution_count": 9,
     "metadata": {},
     "output_type": "execute_result"
    }
   ],
   "source": [
    "x = input('Enter a string: ').lower()\n",
    "\n",
    "v = ['a', 'e', 'i', 'o', 'u']\n",
    "\n",
    "for i in v: \n",
    "    x = x.replace(i, '')\n",
    "\n",
    "res = []\n",
    "for i in range(len(x)): \n",
    "    res.append('.' + x[i])  \n",
    "\n",
    "''.join(res)"
   ]
  },
  {
   "cell_type": "markdown",
   "id": "8acf48c8",
   "metadata": {},
   "source": [
    "## Problem 10: Helpful Maths"
   ]
  },
  {
   "cell_type": "markdown",
   "id": "b8d69005",
   "metadata": {},
   "source": [
    "We sort an additive operation in non-descreasing order"
   ]
  },
  {
   "cell_type": "code",
   "execution_count": 10,
   "id": "694eeb03",
   "metadata": {},
   "outputs": [
    {
     "name": "stdout",
     "output_type": "stream",
     "text": [
      "Enter operation to be sorted: 1+1+3+1+3\n",
      "1+1+1+3+3\n"
     ]
    }
   ],
   "source": [
    "import numpy as np\n",
    "\n",
    "x = input('Enter operation to be sorted: ')\n",
    "\n",
    "vec = []\n",
    "for i in x: \n",
    "    if i != '+': \n",
    "        vec.append(int(i)) \n",
    "        \n",
    "res = []\n",
    "vec = np.sort(vec) \n",
    "\n",
    "if len(vec) > 1: \n",
    "    for i in range(len(vec)): \n",
    "        res.append(str(vec[i]) + '+')\n",
    "else: \n",
    "    res = vec\n",
    "    \n",
    "if len(vec) > 1: \n",
    "    res = ''.join(res) \n",
    "    print(res[0:len(res)-1])\n",
    "else: \n",
    "    print(vec)"
   ]
  },
  {
   "cell_type": "markdown",
   "id": "3213b60a",
   "metadata": {},
   "source": [
    "## Problem 11: Word Capitalization"
   ]
  },
  {
   "cell_type": "markdown",
   "id": "b3129ff7",
   "metadata": {},
   "source": [
    "The objective is to capitalize the first letter of a word"
   ]
  },
  {
   "cell_type": "code",
   "execution_count": 11,
   "id": "fc7703d5",
   "metadata": {},
   "outputs": [
    {
     "name": "stdout",
     "output_type": "stream",
     "text": [
      "Enter a word:konjac\n"
     ]
    },
    {
     "data": {
      "text/plain": [
       "'Konjac'"
      ]
     },
     "execution_count": 11,
     "metadata": {},
     "output_type": "execute_result"
    }
   ],
   "source": [
    "x = input('Enter a word:') \n",
    "\n",
    "x[0].upper() + x[1:len(x)]"
   ]
  },
  {
   "cell_type": "markdown",
   "id": "ed32262a",
   "metadata": {},
   "source": [
    "## Problem 12: Boy or Girl"
   ]
  },
  {
   "cell_type": "markdown",
   "id": "4c9b45a6",
   "metadata": {},
   "source": [
    "If the number of distinct characters of a nickname is even, then that user is a girl (otherwise he is a boy). We identify the user's gender"
   ]
  },
  {
   "cell_type": "code",
   "execution_count": 12,
   "id": "fd026981",
   "metadata": {},
   "outputs": [
    {
     "name": "stdout",
     "output_type": "stream",
     "text": [
      "Enter a username:wjmzbmr\n",
      "She is a girl!\n"
     ]
    }
   ],
   "source": [
    "x = input('Enter a username:')\n",
    "\n",
    "print('She is a girl!') if len(set(x)) % 2 == 0 else print('He is a boy!')"
   ]
  },
  {
   "cell_type": "markdown",
   "id": "88d7c896",
   "metadata": {},
   "source": [
    "## Problem 13: Stones on the Table"
   ]
  },
  {
   "cell_type": "markdown",
   "id": "14639422",
   "metadata": {},
   "source": [
    "There are *n* stones on the table in a row and they can be colored either in red, blue or green. Given a vector of *n* stones with their corresponding color, we get the minimum number of stones to take from the table so that neighboring stones are of different colors"
   ]
  },
  {
   "cell_type": "code",
   "execution_count": 13,
   "id": "f7e4ac9c",
   "metadata": {},
   "outputs": [
    {
     "name": "stdout",
     "output_type": "stream",
     "text": [
      "Enter number of stones and the distribution of the row: 3 RRG\n",
      "Minimum number of stones to take from the table: 1\n"
     ]
    }
   ],
   "source": [
    "import numpy as np\n",
    "\n",
    "x = input('Enter number of stones and the distribution of the row: ').split()\n",
    "\n",
    "i = 0\n",
    "cont = 0 \n",
    "row = x[1] \n",
    "\n",
    "while i < len(row)-1:\n",
    "    if row[i] == row[i + 1]: \n",
    "        cont += 1\n",
    "    i += 1\n",
    "\n",
    "print('Minimum number of stones to take from the table: ' + str(cont))"
   ]
  },
  {
   "cell_type": "markdown",
   "id": "cae4bdd2",
   "metadata": {},
   "source": [
    "## Problem 14: Bear and Big Brother"
   ]
  },
  {
   "cell_type": "markdown",
   "id": "3b4510da",
   "metadata": {},
   "source": [
    "Individual *i* weights *a* and individual *j* weights *b*. Initially b >= a but each year $\\Delta$ a = 3 and $\\Delta$ b = 2. We compute after how many full years $w_i$ > $w_j$"
   ]
  },
  {
   "cell_type": "code",
   "execution_count": 14,
   "id": "bcbc5e3e",
   "metadata": {},
   "outputs": [
    {
     "name": "stdout",
     "output_type": "stream",
     "text": [
      "Enter weights for individuals i and j respectively: 4 7\n",
      "After 2 full years, individual i weights strictly more than individual j\n"
     ]
    }
   ],
   "source": [
    "x = [int(x) for x in input('Enter weights for individuals i and j respectively: ').split()]\n",
    "\n",
    "a = x[0] \n",
    "b = x[1]\n",
    "\n",
    "cont = 0\n",
    "while a <= b: \n",
    "    a = 3*a \n",
    "    b = 2*b \n",
    "    cont += 1\n",
    "\n",
    "print('After ' + str(cont) + ' full years, \\\n",
    "      individual i weights strictly more than individual j')"
   ]
  },
  {
   "cell_type": "markdown",
   "id": "4fb74f96",
   "metadata": {},
   "source": [
    "## Problem 15: Young Physicist"
   ]
  },
  {
   "cell_type": "markdown",
   "id": "381454fd",
   "metadata": {},
   "source": [
    "Let physical coordinates be defined in a three-dimensional space, we determine if a body is in equilibrium. **Note:** We leverage the fact that for a given numpy array the *mean()* function sums all of the elements of a matrix"
   ]
  },
  {
   "cell_type": "code",
   "execution_count": 15,
   "id": "60ceda2c",
   "metadata": {},
   "outputs": [
    {
     "name": "stdout",
     "output_type": "stream",
     "text": [
      "Enter x, y and z coordinates: 3 4 1 7 -2 4 -1 1 -5 -3\n",
      "Not in equilibrium!\n"
     ]
    }
   ],
   "source": [
    "x = [int(x) for x in input('Enter x, y and z coordinates: ').split()]\n",
    "\n",
    "y = np.array(x[1:len(x)]) \n",
    "b = np.reshape(y, (x[0], 3))\n",
    "\n",
    "print('Equilibrium!') if b.mean() == 0 else print('Not in equilibrium!')"
   ]
  },
  {
   "cell_type": "markdown",
   "id": "bad80ede",
   "metadata": {},
   "source": [
    "## Problem 16: Football"
   ]
  },
  {
   "cell_type": "markdown",
   "id": "a348ee8e",
   "metadata": {},
   "source": [
    "There are two teams: $t \\in \\{0, 1\\}$, if seven players of the same team stand one after another it is considered a dangerous situation. We determine whether there is danger or not"
   ]
  },
  {
   "cell_type": "code",
   "execution_count": 16,
   "id": "71ae13e3",
   "metadata": {},
   "outputs": [
    {
     "name": "stdout",
     "output_type": "stream",
     "text": [
      "Enter the current position of players: 1000000001\n",
      "Dangerous!\n"
     ]
    }
   ],
   "source": [
    "x = input('Enter the current position of players: ')\n",
    "\n",
    "i = 0\n",
    "cont = 0 \n",
    "while i < len(x)-1 and cont < 7:\n",
    "    if x[i] == x[i + 1]: cont += 1\n",
    "    else: cont = 0\n",
    "    i += 1\n",
    "\n",
    "print('Dangerous!') if cont >= 7 else print('Not dangerous!')"
   ]
  },
  {
   "cell_type": "markdown",
   "id": "019cde94",
   "metadata": {},
   "source": [
    "## Problem 17: Soldier and Bananas"
   ]
  },
  {
   "cell_type": "markdown",
   "id": "e588e94f",
   "metadata": {},
   "source": [
    "Given a vector [$k, n, w$] representing cost of bananas, dollars available and number of bananas demanded and considering that the cost of each banana increases by $k$ by every extra banana, we calculate whether the soldier has to borrow money or not. **Note:** We leverage the fact that the cost can be represented by $k*\\frac{n*(n+1)}{2}$"
   ]
  },
  {
   "cell_type": "code",
   "execution_count": 17,
   "id": "4cde16ec",
   "metadata": {},
   "outputs": [
    {
     "name": "stdout",
     "output_type": "stream",
     "text": [
      "Enter cost, dollars available and number of bananas: 3 17 4\n",
      "Borrow 13 dollars\n"
     ]
    }
   ],
   "source": [
    "x = [int(x) for x in input('Enter cost, dollars available and number of bananas: ').split()]\n",
    "\n",
    "k = x[0] \n",
    "n = x[1] \n",
    "w = x[2]\n",
    "cost = k*w*(w+1)/2\n",
    "\n",
    "print('Borrow ' + str(round(abs(cost - n))) + ' dollars') if cost > n else print('No need to borrow money')"
   ]
  },
  {
   "cell_type": "markdown",
   "id": "e8b6d2fe",
   "metadata": {},
   "source": [
    "## Problem 18: Elephant"
   ]
  },
  {
   "cell_type": "markdown",
   "id": "a0808409",
   "metadata": {},
   "source": [
    "An elephant is located at position 0. It can take a step from 1 to 5 meters long. We calculate the minimum number of steps needed to reach position *x*"
   ]
  },
  {
   "cell_type": "code",
   "execution_count": 18,
   "id": "5cebbc3b",
   "metadata": {},
   "outputs": [
    {
     "name": "stdout",
     "output_type": "stream",
     "text": [
      "12\n",
      "3\n"
     ]
    }
   ],
   "source": [
    "import math\n",
    "\n",
    "x = int(input())\n",
    "\n",
    "print(math.trunc(x/5) + 1) if x % 5 != 0 else x/5"
   ]
  },
  {
   "cell_type": "markdown",
   "id": "ab4a7aea",
   "metadata": {},
   "source": [
    "## Problem 19: Word"
   ]
  },
  {
   "cell_type": "markdown",
   "id": "5a187fa1",
   "metadata": {},
   "source": [
    "A word is rewritten fully in lowercase if its uppercase letters do not constitute a majority. "
   ]
  },
  {
   "cell_type": "code",
   "execution_count": 19,
   "id": "df482018",
   "metadata": {},
   "outputs": [
    {
     "name": "stdout",
     "output_type": "stream",
     "text": [
      "HoUse\n",
      "house\n"
     ]
    }
   ],
   "source": [
    "x = input()\n",
    "\n",
    "low = 0\n",
    "for i in x: \n",
    "    if i.islower(): low += 1 \n",
    "        \n",
    "print(x.lower()) if low >= len(x) - low else print(x.upper())"
   ]
  },
  {
   "cell_type": "markdown",
   "id": "26c4bb6e",
   "metadata": {},
   "source": [
    "## Problem 20: Wrong Subtraction "
   ]
  },
  {
   "cell_type": "markdown",
   "id": "1bd6443f",
   "metadata": {},
   "source": [
    "Given a vector [$n, k$] where $n$ is an integer and $k$ is the number of times $n$ has to be subtracted, we calculate the result. However, there is a special rule: if the last number of $n$ is 0, then $n$ is divided by 10 (otherwise we subtract 1)"
   ]
  },
  {
   "cell_type": "code",
   "execution_count": 20,
   "id": "7216cc95",
   "metadata": {},
   "outputs": [
    {
     "name": "stdout",
     "output_type": "stream",
     "text": [
      "Enter an integer and number of subtractions: 512 4\n",
      "The result is 50.0\n"
     ]
    }
   ],
   "source": [
    "x = [int(x) for x in input('Enter an integer and number of subtractions: ').split()]\n",
    "\n",
    "k = x[0]\n",
    "cont = x[1]\n",
    "\n",
    "while cont != 0:\n",
    "    if k % 10 == 0: \n",
    "        k = k/10\n",
    "    else: \n",
    "        k -= 1\n",
    "    cont -= 1\n",
    "       \n",
    "print('The result is ' + str(k))"
   ]
  },
  {
   "cell_type": "markdown",
   "id": "ca386210",
   "metadata": {},
   "source": [
    "## Problem 21: Tram"
   ]
  },
  {
   "cell_type": "markdown",
   "id": "2d42fb40",
   "metadata": {},
   "source": [
    "Firstly, we are given the number of stops *n*, and then a 2x2 matrix, where the first column represents the number of passengers that exit the tram and the second column the number of passengers that get in. We calculate the minimum capacity of the tram"
   ]
  },
  {
   "cell_type": "code",
   "execution_count": 21,
   "id": "e4243852",
   "metadata": {},
   "outputs": [
    {
     "name": "stdout",
     "output_type": "stream",
     "text": [
      "Enter information: 4 0 3 2 5 4 2 4 0\n",
      "The minimum possible capacity is 6 passengers\n"
     ]
    }
   ],
   "source": [
    "x = [int(x) for x in input('Enter information: ').split()]\n",
    "\n",
    "a = [] \n",
    "b = []\n",
    "info = x[1:len(x)] ; \n",
    "for i in range(len(info)): \n",
    "    a.append(info[i]) if i % 2 == 0 else b.append(info[i])\n",
    "    \n",
    "p = np.repeat(0, len(a))\n",
    "p[0] = b[0]\n",
    "for i in range(len(b)): \n",
    "    if i != 0: p[i] = p[i - 1] + b[i] - a[i]\n",
    "\n",
    "print('The minimum possible capacity is ' + str(max(p)) + ' passengers')"
   ]
  },
  {
   "cell_type": "markdown",
   "id": "042ff5ce",
   "metadata": {},
   "source": [
    "## Problem 22: Nearly Lucky Number"
   ]
  },
  {
   "cell_type": "markdown",
   "id": "a216b37a",
   "metadata": {},
   "source": [
    "Lucky numbers are 4 and 7. A nearly lucky number is an integer that presents either 4 or 7 lucky numbers "
   ]
  },
  {
   "cell_type": "code",
   "execution_count": 22,
   "id": "7b5f6067",
   "metadata": {},
   "outputs": [
    {
     "name": "stdout",
     "output_type": "stream",
     "text": [
      "Enter your number: 7747774\n",
      "It is a nearly lucky number!\n"
     ]
    }
   ],
   "source": [
    "x = input('Enter your number: ')\n",
    "\n",
    "cont = 0\n",
    "for i in x:\n",
    "    if i in ['4', '7']: \n",
    "        cont += 1\n",
    "        \n",
    "print('It is a nearly lucky number!') if cont in [4, 7] else print('Not a nearly lucky number')"
   ]
  },
  {
   "cell_type": "markdown",
   "id": "94cb33ec",
   "metadata": {},
   "source": [
    "## Problem 23: Queue at the School"
   ]
  },
  {
   "cell_type": "markdown",
   "id": "7de4a8e4",
   "metadata": {},
   "source": [
    "There are boys (**B**) and girls (**G**) in a queue. After *k* seconds $\\textbf{B}_i$ changes position with $\\textbf{G}_{i+1}$, where i indicates the location at the queue. We retrieve the final positions"
   ]
  },
  {
   "cell_type": "code",
   "execution_count": 23,
   "id": "89ad2f13",
   "metadata": {},
   "outputs": [
    {
     "name": "stdout",
     "output_type": "stream",
     "text": [
      "Enter the row composition and seconds: 5 2 BGGBG\n",
      "GGBGB\n"
     ]
    }
   ],
   "source": [
    "x = input('Enter the row composition and seconds: ').split()\n",
    "\n",
    "row = list(x[len(x) - 1])\n",
    "cont = int(x[1])\n",
    "positions = []\n",
    "\n",
    "while cont > 0:\n",
    "    for i in range(len(row) - 1):\n",
    "        if row[i] == 'B' and row[i + 1] == 'G': \n",
    "            positions.append(i)\n",
    "    for j in positions:\n",
    "        row[j] = 'G'  \n",
    "        row[j + 1] = 'B' \n",
    "    cont -= 1\n",
    "        \n",
    "print(''.join(row))"
   ]
  },
  {
   "cell_type": "markdown",
   "id": "1de42b31",
   "metadata": {},
   "source": [
    "## Problem 24: Chat room"
   ]
  },
  {
   "cell_type": "markdown",
   "id": "6a9f04e3",
   "metadata": {},
   "source": [
    "An online user mistyped the word 'hello'. If by removing letters we can get to such word, then it is considered that said user greeted everyone"
   ]
  },
  {
   "cell_type": "code",
   "execution_count": 24,
   "id": "1e9a12d3",
   "metadata": {},
   "outputs": [
    {
     "name": "stdout",
     "output_type": "stream",
     "text": [
      "Enter the mistyped word: ahhellllloou\n",
      "YES\n"
     ]
    }
   ],
   "source": [
    "word = 'hello'\n",
    "x = input('Enter the mistyped word: ')\n",
    "\n",
    "j = 0 \n",
    "cont = 0\n",
    "\n",
    "for i in range(len(x)):\n",
    "    if x[i] == word[j]:\n",
    "        j += 1\n",
    "    if j == 5: \n",
    "        cont +=1 ; break\n",
    "\n",
    "print('YES') if cont == 1 else print('NO')"
   ]
  },
  {
   "cell_type": "markdown",
   "id": "affb620e",
   "metadata": {},
   "source": [
    "## Problem 25: Translation"
   ]
  },
  {
   "cell_type": "markdown",
   "id": "aa52e3ca",
   "metadata": {},
   "source": [
    "Birlandish is a language that is identical to Berlandish but for one peculiar characteristic: it's written the other way round. We identify whether two words mean the same"
   ]
  },
  {
   "cell_type": "code",
   "execution_count": 25,
   "id": "cc36c6da",
   "metadata": {},
   "outputs": [
    {
     "name": "stdout",
     "output_type": "stream",
     "text": [
      "Enter the two words: abb aba\n",
      "NO\n"
     ]
    }
   ],
   "source": [
    "x = input('Enter the two words: ').split() \n",
    "\n",
    "ber = x[0] \n",
    "bir = x[1]\n",
    "trans = []\n",
    "i = len(ber) - 1\n",
    "\n",
    "while i >= 0: \n",
    "    trans.append(ber[i])\n",
    "    i -= 1\n",
    "\n",
    "print('YES') if ''.join(trans) == bir else print('NO')"
   ]
  },
  {
   "cell_type": "markdown",
   "id": "7e4cfc1c",
   "metadata": {},
   "source": [
    "## Problem 26: Anton and Danik"
   ]
  },
  {
   "cell_type": "markdown",
   "id": "3a1a8d30",
   "metadata": {},
   "source": [
    "Given a vector with *A* denoting Anton's victories and *D* representing Danik's, we tell who won more times or there's a tie"
   ]
  },
  {
   "cell_type": "code",
   "execution_count": 26,
   "id": "755e397b",
   "metadata": {},
   "outputs": [
    {
     "name": "stdout",
     "output_type": "stream",
     "text": [
      "Enter outcomes: 6 ADAAAA\n",
      "Anton\n"
     ]
    }
   ],
   "source": [
    "x = input('Enter outcomes: ').split()\n",
    "\n",
    "cont = 0\n",
    "for i in x[1]:\n",
    "    if i == 'A': \n",
    "        cont += 1\n",
    "        \n",
    "print('Anton') if cont > int(x[0]) - cont else print('Tied!') if cont == int(x[0])/2 else print('Danik')"
   ]
  },
  {
   "cell_type": "markdown",
   "id": "fcff87c9",
   "metadata": {},
   "source": [
    "## Problem 27: Lucky Division"
   ]
  },
  {
   "cell_type": "markdown",
   "id": "c4b78a46",
   "metadata": {},
   "source": [
    "A number is almost lucky if it can be divided by lucky numbers 4 or 7"
   ]
  },
  {
   "cell_type": "code",
   "execution_count": 27,
   "id": "0baea05a",
   "metadata": {},
   "outputs": [
    {
     "name": "stdout",
     "output_type": "stream",
     "text": [
      "Enter a number: 16\n",
      "YES\n"
     ]
    }
   ],
   "source": [
    "x = int(input('Enter a number: '))\n",
    "\n",
    "print('YES') if x % 4 == 0 or x % 7 == 0 else print('NO')"
   ]
  },
  {
   "cell_type": "markdown",
   "id": "bb922064",
   "metadata": {},
   "source": [
    "## Problem 28: Beautiful Year"
   ]
  },
  {
   "cell_type": "markdown",
   "id": "92a85877",
   "metadata": {},
   "source": [
    "Retrieving the minimum year larger than the input with distinct numbers"
   ]
  },
  {
   "cell_type": "code",
   "execution_count": 28,
   "id": "cb6c4c9c",
   "metadata": {},
   "outputs": [
    {
     "name": "stdout",
     "output_type": "stream",
     "text": [
      "Enter a year: 1987\n",
      "2013\n"
     ]
    }
   ],
   "source": [
    "a = input('Enter a year: ')\n",
    "b = int(a)\n",
    "\n",
    "salir = False\n",
    "\n",
    "while salir == False:\n",
    "    b += 1\n",
    "    if len(set(str(b))) == len(a):\n",
    "        salir = True\n",
    "        \n",
    "print(b)"
   ]
  },
  {
   "cell_type": "markdown",
   "id": "254384db",
   "metadata": {},
   "source": [
    "## Problem 29: Vanya and Fence"
   ]
  },
  {
   "cell_type": "markdown",
   "id": "dc56b5d9",
   "metadata": {},
   "source": [
    "There are *n* friends and a fence has height *h*. Each friend weights $a_i$ and if any $a_i$ > *h* said person has to bend down and so the width of the road has to increase (a normal person fits in *w* = 1 but if they bend down *w* = 2). The friends want to go together so we calculate the minimum width of the road "
   ]
  },
  {
   "cell_type": "code",
   "execution_count": 29,
   "id": "4d72e3f5",
   "metadata": {},
   "outputs": [
    {
     "name": "stdout",
     "output_type": "stream",
     "text": [
      "3 7 4 5 14\n",
      "4\n"
     ]
    }
   ],
   "source": [
    "x = [int(j) for j in input().split()]\n",
    "\n",
    "n, h = x[0], x[1]\n",
    "vec = x[2:len(x)]\n",
    "w = len(vec)\n",
    "\n",
    "for i in vec:\n",
    "    if i > h:\n",
    "        w += 1\n",
    "    \n",
    "print(w)"
   ]
  },
  {
   "cell_type": "markdown",
   "id": "55387a93",
   "metadata": {},
   "source": [
    "## Problem 30: Twins"
   ]
  },
  {
   "cell_type": "markdown",
   "id": "4fa08863",
   "metadata": {},
   "source": [
    "Twin *i* has to pick a subset of *n* coins in such a way that $\\sum_{s=1}^na_s$ > $\\sum_{k\\notin S}^na_k$, where $a_p$ represents the value of said coins"
   ]
  },
  {
   "cell_type": "code",
   "execution_count": 30,
   "id": "2247a545",
   "metadata": {},
   "outputs": [
    {
     "name": "stdout",
     "output_type": "stream",
     "text": [
      "3 2 1 2\n",
      "2 1 2\n",
      "2\n"
     ]
    }
   ],
   "source": [
    "x = [int(j) for j in input().split()]\n",
    "value = [int(j) for j in input().split()]\n",
    "value.sort()\n",
    "value = value[::-1]\n",
    " \n",
    "salir = False\n",
    "cont = 0\n",
    "i = 0\n",
    "\n",
    "while i < len(value) and salir == False:\n",
    "    cont += value[i]\n",
    "    resto = sum(value[(i+1):len(value)])\n",
    "    if cont > resto:\n",
    "        salir = True\n",
    "    i += 1\n",
    "    \n",
    "print(i)"
   ]
  },
  {
   "cell_type": "markdown",
   "id": "cea611e6",
   "metadata": {},
   "source": [
    "## Problem 31: George and Accommodation"
   ]
  },
  {
   "cell_type": "code",
   "execution_count": 31,
   "id": "c6558787",
   "metadata": {},
   "outputs": [
    {
     "name": "stdout",
     "output_type": "stream",
     "text": [
      "3\n",
      "1 1\n",
      "2 2\n",
      "3 3\n",
      "0\n"
     ]
    }
   ],
   "source": [
    "cont = 0\n",
    " \n",
    "for i in range(int(input())):\n",
    "    x = [int(x) for x in input().split()]\n",
    "    if x[1] - x[0] >= 2:\n",
    "        cont += 1\n",
    "\n",
    "print(cont)"
   ]
  },
  {
   "cell_type": "markdown",
   "id": "e8410a6c",
   "metadata": {},
   "source": [
    "## Problem 32: Presents"
   ]
  },
  {
   "cell_type": "markdown",
   "id": "fca4420c",
   "metadata": {},
   "source": [
    "We identify the index of a person giving gifts to the *i*-th friend from a vector of integers"
   ]
  },
  {
   "cell_type": "code",
   "execution_count": 32,
   "id": "e1b1cb12",
   "metadata": {},
   "outputs": [
    {
     "name": "stdout",
     "output_type": "stream",
     "text": [
      "4\n",
      "2 3 4 1\n",
      "[4, 1, 2, 3]\n"
     ]
    }
   ],
   "source": [
    "n = int(input())\n",
    "\n",
    "x = [int(i) for i in input().split()]\n",
    "\n",
    "def argsort(seq):\n",
    "    return sorted(range(n), key = seq.__getitem__)\n",
    "    \n",
    "y = [i+1 for i in argsort(x)]\n",
    "\n",
    "print(y)"
   ]
  },
  {
   "cell_type": "markdown",
   "id": "849c2fd6",
   "metadata": {},
   "source": [
    "## Problem 33: In Search of an Easy Problem"
   ]
  },
  {
   "cell_type": "markdown",
   "id": "89558e1a",
   "metadata": {},
   "source": [
    "If a problem is voted as difficult then it is ditched out. 1 means it is seemed as hard by the *i*-th programmer, 0 otherwise"
   ]
  },
  {
   "cell_type": "code",
   "execution_count": 33,
   "id": "6f2f8070",
   "metadata": {},
   "outputs": [
    {
     "name": "stdout",
     "output_type": "stream",
     "text": [
      "3\n",
      "0 0 1\n",
      "HARD\n"
     ]
    }
   ],
   "source": [
    "n = int(input())\n",
    "\n",
    "x = [int(j) for j in input().split()]\n",
    "    \n",
    "print('HARD') if 1 in x else print('EASY')"
   ]
  },
  {
   "cell_type": "markdown",
   "id": "81809474",
   "metadata": {},
   "source": [
    "## Problem 34: Magnets"
   ]
  },
  {
   "cell_type": "markdown",
   "id": "2fedadd1",
   "metadata": {},
   "source": [
    "We count the number of blocks magnets can form. 10 represents a minus-plus position while 01 means otherwise"
   ]
  },
  {
   "cell_type": "code",
   "execution_count": 34,
   "id": "b6b4c9b0",
   "metadata": {},
   "outputs": [
    {
     "name": "stdout",
     "output_type": "stream",
     "text": [
      "6\n",
      "10 10 10 01 10 10\n",
      "3\n"
     ]
    }
   ],
   "source": [
    "n = int(input())\n",
    "\n",
    "magnets = [int(i) for i in input().split()]\n",
    "\n",
    "cont = 1\n",
    "\n",
    "for i in range(len(magnets)):\n",
    "    if magnets[i] != magnets[i-1]:\n",
    "        cont += 1\n",
    "        \n",
    "print(cont)"
   ]
  },
  {
   "cell_type": "markdown",
   "id": "42a6c736",
   "metadata": {},
   "source": [
    "## Problem 35: HQ9+"
   ]
  },
  {
   "cell_type": "markdown",
   "id": "e2cc0058",
   "metadata": {},
   "source": [
    "The HQ9+ programming language only works when said characters are utilized. We identify whether a program will run in this language"
   ]
  },
  {
   "cell_type": "code",
   "execution_count": 35,
   "id": "95c1699a",
   "metadata": {},
   "outputs": [
    {
     "name": "stdout",
     "output_type": "stream",
     "text": [
      "Hi!\n",
      "YES\n"
     ]
    }
   ],
   "source": [
    "program = input()\n",
    "\n",
    "cont = 0\n",
    "vec = ['H', 'Q', '9']\n",
    "for i in program:\n",
    "    if i in vec:\n",
    "        cont += 1\n",
    "    elif i in vec and '+' in vec:\n",
    "        cont +=1\n",
    "        \n",
    "\n",
    "print('YES') if cont > 0 else print('NO')"
   ]
  }
 ],
 "metadata": {
  "interpreter": {
   "hash": "31f2aee4e71d21fbe5cf8b01ff0e069b9275f58929596ceb00d14d90e3e16cd6"
  },
  "kernelspec": {
   "display_name": "Python 3 (ipykernel)",
   "language": "python",
   "name": "python3"
  },
  "language_info": {
   "codemirror_mode": {
    "name": "ipython",
    "version": 3
   },
   "file_extension": ".py",
   "mimetype": "text/x-python",
   "name": "python",
   "nbconvert_exporter": "python",
   "pygments_lexer": "ipython3",
   "version": "3.9.0"
  }
 },
 "nbformat": 4,
 "nbformat_minor": 5
}
