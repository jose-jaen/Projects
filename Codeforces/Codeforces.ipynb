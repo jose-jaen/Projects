{
 "cells": [
  {
   "cell_type": "markdown",
   "id": "1520d8a6",
   "metadata": {},
   "source": [
    "# Codeforces "
   ]
  },
  {
   "cell_type": "markdown",
   "id": "5ecb6727",
   "metadata": {},
   "source": [
    "The present Jupyter Notebook provides solutions to some Codeforces programming problems. \\\n",
    "Whenever input() is used we assume the user will not misbehave unless explicitly pointed out."
   ]
  },
  {
   "cell_type": "markdown",
   "id": "21e8d59d",
   "metadata": {},
   "source": [
    "## Problem 1: Watermelon"
   ]
  },
  {
   "cell_type": "markdown",
   "id": "b6d28a04",
   "metadata": {},
   "source": [
    "Identify if it is possible to divide the watermelon in such a way that each of the two parts weights an even number of kilos"
   ]
  },
  {
   "cell_type": "code",
   "execution_count": 1,
   "id": "35cb89cf",
   "metadata": {},
   "outputs": [
    {
     "name": "stdout",
     "output_type": "stream",
     "text": [
      "Enter the weight of the watermelon: 8\n",
      "YES\n"
     ]
    }
   ],
   "source": [
    "w = int(input('Enter the weight of the watermelon: '))\n",
    "\n",
    "print('YES') if (w % 2 == 0 and w != 2) else print('NO')"
   ]
  },
  {
   "cell_type": "markdown",
   "id": "50c21fe2",
   "metadata": {},
   "source": [
    "## Problem 2: Way Too Long Words"
   ]
  },
  {
   "cell_type": "markdown",
   "id": "bade4187",
   "metadata": {},
   "source": [
    "Enter *n* (total cases to be considered) and then some words. If the length of the *i-th* word is strictly greater than 10 characters, then the first and last letter are returned. Between them the number of letters from the first one to the final one (not included) is displayed"
   ]
  },
  {
   "cell_type": "code",
   "execution_count": 2,
   "id": "e40715e2",
   "metadata": {},
   "outputs": [
    {
     "name": "stdout",
     "output_type": "stream",
     "text": [
      "Enter number of cases and individual words: 4 word localization internationalization pneumonoultramicroscopicsilicovolcanoconiosis\n",
      "['word', 'l10n', 'i18n', 'p43s']\n"
     ]
    }
   ],
   "source": [
    "x = input('Enter number of cases and individual words: ').split()\n",
    "\n",
    "words = x[1:len(x)] ; vec = []\n",
    "\n",
    "for word in words:\n",
    "    if len(word) > 10: res = word[0] + str(len(word) - 2) + word[len(word) - 1]\n",
    "    else: res = word\n",
    "    vec.append(res)\n",
    "\n",
    "print(vec)"
   ]
  },
  {
   "cell_type": "markdown",
   "id": "272827e5",
   "metadata": {},
   "source": [
    "## Problem 3: Team"
   ]
  },
  {
   "cell_type": "markdown",
   "id": "56b9fd67",
   "metadata": {},
   "source": [
    "Three friends vote on submitting a solution to a programming problem. Only if at least two of them are sure about it (represented by 1) will they upload their script. We know count how many problems they put up"
   ]
  },
  {
   "cell_type": "code",
   "execution_count": 3,
   "id": "34d3e39f",
   "metadata": {},
   "outputs": [
    {
     "name": "stdout",
     "output_type": "stream",
     "text": [
      "Enter number of problems and individual decisions: 3 1 1 0 1 1 1 1 0 0\n",
      "The number of problems the friends will implement on the contest is: 2\n"
     ]
    }
   ],
   "source": [
    "import numpy as np\n",
    "\n",
    "x = [int(x) for x in input('Enter number of problems and individual decisions: ').split()]\n",
    "\n",
    "y = np.array(x[1:len(x)]); b = np.reshape(y, (x[0], 3)) ; cont = 0\n",
    "\n",
    "for i in range(np.shape(b)[0]): \n",
    "    if sum(b[i,]) >= 2: cont += 1 \n",
    "        \n",
    "print('The number of problems the friends will implement on the contest is:', cont)"
   ]
  },
  {
   "cell_type": "markdown",
   "id": "80e773fb",
   "metadata": {},
   "source": [
    "## Problem 4: Next Round"
   ]
  },
  {
   "cell_type": "markdown",
   "id": "d5e3484e",
   "metadata": {},
   "source": [
    "We are given the number of participants in a contest (n), along with how many of them advance towards the next round (k). Their scores are displayed and we shall identify how many of them make it to the next phase based on their scores: if there is a tie between the k-th and k+1-th place then both are allowed to continue"
   ]
  },
  {
   "cell_type": "code",
   "execution_count": 4,
   "id": "e3992ad0",
   "metadata": {},
   "outputs": [
    {
     "name": "stdout",
     "output_type": "stream",
     "text": [
      "Enter participants, winners and scores: 8 5 10 9 8 7 7 7 5 5\n",
      "6 participants made it to the next round!\n"
     ]
    }
   ],
   "source": [
    "import numpy as np\n",
    "\n",
    "x = [int(x) for x in input('Enter participants, winners and scores: ').split()]\n",
    "\n",
    "k = x[1] ; s = x[2:len(x)]\n",
    "\n",
    "lista = [] ; i = 0\n",
    "\n",
    "while i < k and s[i] != 0: lista.append(s[i]) ; i += 1\n",
    "\n",
    "(lista.append(s[k]) if (lista[len(lista) - 1] == s[k] and s[k] != 0) else lista) if len(lista) != 0 else lista\n",
    "    \n",
    "print(len(lista), 'participants made it to the next round!')"
   ]
  },
  {
   "cell_type": "markdown",
   "id": "0c46d3ae",
   "metadata": {},
   "source": [
    "## Problem 5: Domino Piling"
   ]
  },
  {
   "cell_type": "markdown",
   "id": "a6c663ce",
   "metadata": {},
   "source": [
    "Given a rectangular board, identify how many 2x1 domino pieces can fit together"
   ]
  },
  {
   "cell_type": "code",
   "execution_count": 5,
   "id": "4db4288c",
   "metadata": {},
   "outputs": [
    {
     "name": "stdout",
     "output_type": "stream",
     "text": [
      "Enter dimension of the board: 2 4\n"
     ]
    },
    {
     "data": {
      "text/plain": [
       "4.0"
      ]
     },
     "execution_count": 5,
     "metadata": {},
     "output_type": "execute_result"
    }
   ],
   "source": [
    "import math\n",
    "\n",
    "x = [int(x) for x in input('Enter dimension of the board: ').split()]\n",
    "\n",
    "area = x[0]*x[1]\n",
    "\n",
    "area/2 if area % 2 == 0 else math.trunc(area/2)"
   ]
  },
  {
   "cell_type": "markdown",
   "id": "3d0de095",
   "metadata": {},
   "source": [
    "## Problem 6: Bit++"
   ]
  },
  {
   "cell_type": "markdown",
   "id": "e6232780",
   "metadata": {},
   "source": [
    "Bit++ is a language consisting of X's and plus or minus signs. In the presence of '++' 1 is added to the intial null value, 1 is subtracted otherwise. We now get the total result for each Bit++ phrase"
   ]
  },
  {
   "cell_type": "code",
   "execution_count": 6,
   "id": "a083a26f",
   "metadata": {},
   "outputs": [
    {
     "name": "stdout",
     "output_type": "stream",
     "text": [
      "Enter number of statements and subsequent operations: 2 X++ --X\n",
      "0\n"
     ]
    }
   ],
   "source": [
    "x = input('Enter number of statements and subsequent operations: ').split()\n",
    "\n",
    "y = 0\n",
    "\n",
    "for i in x[1:len(x)]:\n",
    "    if '++' in i: y += 1\n",
    "    else: y -= 1\n",
    "\n",
    "print(y)"
   ]
  },
  {
   "cell_type": "markdown",
   "id": "4a359444",
   "metadata": {},
   "source": [
    "## Problem 7: Beautiful Matrix"
   ]
  },
  {
   "cell_type": "markdown",
   "id": "4106cbd3",
   "metadata": {},
   "source": [
    "Let a 5x5 matrix full of zeros and a single 1 represent a geographical locaiton. Given a random location for said 1, we find the closest number of moves to get to the center of the matrix"
   ]
  },
  {
   "cell_type": "code",
   "execution_count": 7,
   "id": "816a148f",
   "metadata": {},
   "outputs": [
    {
     "name": "stdout",
     "output_type": "stream",
     "text": [
      "Enter the matrix: 0 0 0 0 0 0 0 0 0 0 0 1 0 0 0 0 0 0 0 0 0 0 0 0 0\n"
     ]
    },
    {
     "data": {
      "text/plain": [
       "1"
      ]
     },
     "execution_count": 7,
     "metadata": {},
     "output_type": "execute_result"
    }
   ],
   "source": [
    "import numpy as np\n",
    "\n",
    "x = [int(x) for x in input('Enter the matrix: ').split()]\n",
    "\n",
    "m = np.reshape(x, (5, 5))\n",
    "\n",
    "for r in range(m.shape[0]):\n",
    "    for c in range(m.shape[1]):\n",
    "        if m[r, c] != 0: i = r + 1 ; j = c + 1\n",
    "\n",
    "mov = np.array([i, j]) - np.array([3, 3])\n",
    "\n",
    "abs(mov[0] - mov[1])"
   ]
  },
  {
   "cell_type": "markdown",
   "id": "b6747197",
   "metadata": {},
   "source": [
    "## Problem 8: Petya and Strings"
   ]
  },
  {
   "cell_type": "markdown",
   "id": "a4079741",
   "metadata": {},
   "source": [
    "Given two strings, we determine which one is lexicographically larger. If the first one is greater than the second one, we retrieve 1, if tied 0 is printed, otherwise we return -1"
   ]
  },
  {
   "cell_type": "code",
   "execution_count": 8,
   "id": "729a580a",
   "metadata": {},
   "outputs": [
    {
     "name": "stdout",
     "output_type": "stream",
     "text": [
      "Enter strings to be compared:abcdefg AbCdEfF\n"
     ]
    },
    {
     "data": {
      "text/plain": [
       "1"
      ]
     },
     "execution_count": 8,
     "metadata": {},
     "output_type": "execute_result"
    }
   ],
   "source": [
    "x = input('Enter strings to be compared:').split()\n",
    "\n",
    "y = [i.lower() for i in x]\n",
    "\n",
    "1 if y[0] > y[1] else (0 if (y[0] == y[1]) else -1) "
   ]
  },
  {
   "cell_type": "markdown",
   "id": "10bfffe4",
   "metadata": {},
   "source": [
    "## Problem 9: String Task"
   ]
  },
  {
   "cell_type": "markdown",
   "id": "76c2c8ab",
   "metadata": {},
   "source": [
    "Let us analyze a word. We remove its vowels and turn uppercase consonants to lowercase. For each consonant, a dot is introduced"
   ]
  },
  {
   "cell_type": "code",
   "execution_count": 9,
   "id": "53eb03a5",
   "metadata": {},
   "outputs": [
    {
     "name": "stdout",
     "output_type": "stream",
     "text": [
      "Enter a string:aBAcAba\n"
     ]
    },
    {
     "data": {
      "text/plain": [
       "'.b.c.b'"
      ]
     },
     "execution_count": 9,
     "metadata": {},
     "output_type": "execute_result"
    }
   ],
   "source": [
    "x = input('Enter a string:').lower()\n",
    "\n",
    "v = ['a', 'e', 'i', 'o', 'u']\n",
    "\n",
    "for i in v: x = x.replace(i, '')\n",
    "\n",
    "res = []\n",
    "for i in range(len(x)): res.append('.' + x[i])  \n",
    "\n",
    "''.join(res)"
   ]
  },
  {
   "cell_type": "markdown",
   "id": "8acf48c8",
   "metadata": {},
   "source": [
    "## Problem 10: Helpful Maths"
   ]
  },
  {
   "cell_type": "markdown",
   "id": "b8d69005",
   "metadata": {},
   "source": [
    "We sort an additive operation in non-descreasing order"
   ]
  },
  {
   "cell_type": "code",
   "execution_count": 10,
   "id": "694eeb03",
   "metadata": {},
   "outputs": [
    {
     "name": "stdout",
     "output_type": "stream",
     "text": [
      "Enter operation to be sorted: 1+1+3+1+3\n",
      "1+1+1+3+3\n"
     ]
    }
   ],
   "source": [
    "import numpy as np\n",
    "\n",
    "x = input('Enter operation to be sorted: ')\n",
    "\n",
    "vec = []\n",
    "for i in x: \n",
    "    if i != '+': vec.append(int(i)) \n",
    "        \n",
    "vec = np.sort(vec) ; res = []\n",
    "\n",
    "if len(vec) > 1: \n",
    "    for i in range(len(vec)): res.append(str(vec[i]) + '+')\n",
    "else: res = vec\n",
    "    \n",
    "if len(vec) > 1: res = ''.join(res) ; print(res[0:len(res)-1])\n",
    "else: print(vec)"
   ]
  },
  {
   "cell_type": "markdown",
   "id": "3213b60a",
   "metadata": {},
   "source": [
    "## Problem 11: Word Capitalization"
   ]
  },
  {
   "cell_type": "markdown",
   "id": "b3129ff7",
   "metadata": {},
   "source": [
    "The objective is to capitalize the first letter of a word"
   ]
  },
  {
   "cell_type": "code",
   "execution_count": 11,
   "id": "fc7703d5",
   "metadata": {},
   "outputs": [
    {
     "name": "stdout",
     "output_type": "stream",
     "text": [
      "Enter a word:konjac\n"
     ]
    },
    {
     "data": {
      "text/plain": [
       "'Konjac'"
      ]
     },
     "execution_count": 11,
     "metadata": {},
     "output_type": "execute_result"
    }
   ],
   "source": [
    "x = input('Enter a word:') \n",
    "\n",
    "x[0].upper() + x[1:len(x)]"
   ]
  },
  {
   "cell_type": "markdown",
   "id": "ed32262a",
   "metadata": {},
   "source": [
    "## Problem 12: Boy or Girl"
   ]
  },
  {
   "cell_type": "markdown",
   "id": "4c9b45a6",
   "metadata": {},
   "source": [
    "If the number of distinct characters of a nickname is even, then that user is a girl (otherwise he is a boy). We identify the user's gender"
   ]
  },
  {
   "cell_type": "code",
   "execution_count": 12,
   "id": "fd026981",
   "metadata": {},
   "outputs": [
    {
     "name": "stdout",
     "output_type": "stream",
     "text": [
      "Enter a username:wjmzbmr\n",
      "She is a girl!\n"
     ]
    }
   ],
   "source": [
    "x = input('Enter a username:')\n",
    "\n",
    "print('She is a girl!') if len(set(x)) % 2 == 0 else print('He is a boy!')"
   ]
  },
  {
   "cell_type": "markdown",
   "id": "88d7c896",
   "metadata": {},
   "source": [
    "## Problem 13: Stones on the Table"
   ]
  },
  {
   "cell_type": "markdown",
   "id": "14639422",
   "metadata": {},
   "source": [
    "There are *n* stones on the table in a row and they can be colored either in red, blue or green. Given a vector of *n* stones with their corresponding color, we get the minimum number of stones to take from the table so that neighboring stones are of different colors"
   ]
  },
  {
   "cell_type": "code",
   "execution_count": 13,
   "id": "f7e4ac9c",
   "metadata": {},
   "outputs": [
    {
     "name": "stdout",
     "output_type": "stream",
     "text": [
      "Enter number of stones and the distribution of the row: 3 RRG\n",
      "Minimum number of stones to take from the table: 1\n"
     ]
    }
   ],
   "source": [
    "import numpy as np\n",
    "\n",
    "x = input('Enter number of stones and the distribution of the row: ').split()\n",
    "\n",
    "row = x[1] ; cont = 0 ; i = 0\n",
    "while i < len(row)-1:\n",
    "    if row[i] == row[i + 1]: cont += 1\n",
    "    i += 1\n",
    "\n",
    "print('Minimum number of stones to take from the table: ' + str(cont))"
   ]
  },
  {
   "cell_type": "markdown",
   "id": "cae4bdd2",
   "metadata": {},
   "source": [
    "## Problem 14: Bear and Big Brother"
   ]
  },
  {
   "cell_type": "markdown",
   "id": "3b4510da",
   "metadata": {},
   "source": [
    "Individual *i* weights *a* and individual *j* weights *b*. Initially b >= a but each year $\\Delta$ a = 3 and $\\Delta$ b = 2. We compute after how many full years $w_i$ > $w_j$"
   ]
  },
  {
   "cell_type": "code",
   "execution_count": 14,
   "id": "bcbc5e3e",
   "metadata": {},
   "outputs": [
    {
     "name": "stdout",
     "output_type": "stream",
     "text": [
      "Enter weights for individuals i and j respectively: 4 7\n",
      "After 2 full years, individual i weights strictly more than individual j\n"
     ]
    }
   ],
   "source": [
    "x = [int(x) for x in input('Enter weights for individuals i and j respectively: ').split()]\n",
    "\n",
    "a = x[0] ; b = x[1]\n",
    "\n",
    "cont = 0\n",
    "while a <= b: a = 3*a ; b = 2*b ; cont += 1\n",
    "\n",
    "print('After ' + str(cont) + ' full years, individual i weights strictly more than individual j')"
   ]
  },
  {
   "cell_type": "markdown",
   "id": "4fb74f96",
   "metadata": {},
   "source": [
    "## Problem 15: Young Physicist"
   ]
  },
  {
   "cell_type": "markdown",
   "id": "381454fd",
   "metadata": {},
   "source": [
    "Let physical coordinates be defined in a three-dimensional space, we determine if a body is in equilibrium. **Note:** We leverage the fact that for a given numpy array the *mean()* function sums all of the elements of a matrix"
   ]
  },
  {
   "cell_type": "code",
   "execution_count": 15,
   "id": "60ceda2c",
   "metadata": {},
   "outputs": [
    {
     "name": "stdout",
     "output_type": "stream",
     "text": [
      "Enter x, y and z coordinates: 3 4 1 7 -2 4 -1 1 -5 -3\n",
      "Not in equilibrium!\n"
     ]
    }
   ],
   "source": [
    "x = [int(x) for x in input('Enter x, y and z coordinates: ').split()]\n",
    "\n",
    "y = np.array(x[1:len(x)]); b = np.reshape(y, (x[0], 3))\n",
    "\n",
    "print('Equilibrium!') if b.mean() == 0 else print('Not in equilibrium!')"
   ]
  },
  {
   "cell_type": "markdown",
   "id": "bad80ede",
   "metadata": {},
   "source": [
    "## Problem 16: Football"
   ]
  },
  {
   "cell_type": "markdown",
   "id": "a348ee8e",
   "metadata": {},
   "source": [
    "There are two teams: $t \\in \\{0, 1\\}$, if seven players of the same team stand one after another it is considered a dangerous situation. We determine whether there is danger or not"
   ]
  },
  {
   "cell_type": "code",
   "execution_count": 16,
   "id": "71ae13e3",
   "metadata": {},
   "outputs": [
    {
     "name": "stdout",
     "output_type": "stream",
     "text": [
      "Enter the current position of players: 1000000001\n",
      "Dangerous!\n"
     ]
    }
   ],
   "source": [
    "x = input('Enter the current position of players: ')\n",
    "\n",
    "cont = 0 ; i = 0\n",
    "while i < len(x)-1 and cont < 7:\n",
    "    if x[i] == x[i + 1]: cont += 1\n",
    "    else: cont = 0\n",
    "    i += 1\n",
    "\n",
    "print('Dangerous!') if cont >= 7 else print('Not dangerous!')"
   ]
  },
  {
   "cell_type": "markdown",
   "id": "019cde94",
   "metadata": {},
   "source": [
    "## Problem 17: Soldier and Bananas"
   ]
  },
  {
   "cell_type": "markdown",
   "id": "e588e94f",
   "metadata": {},
   "source": [
    "Given a vector [$k, n, w$] representing cost of bananas, dollars available and number of bananas demanded and considering that the cost of each banana increases by $k$ by every extra banana, we calculate whether the soldier has to borrow money or not. **Note:** We leverage the fact that the cost can be represented by $k*\\frac{n*(n+1)}{2}$"
   ]
  },
  {
   "cell_type": "code",
   "execution_count": 17,
   "id": "4cde16ec",
   "metadata": {},
   "outputs": [
    {
     "name": "stdout",
     "output_type": "stream",
     "text": [
      "Enter cost, dollars available and number of bananas: 3 17 4\n",
      "Borrow 13 dollars\n"
     ]
    }
   ],
   "source": [
    "x = [int(x) for x in input('Enter cost, dollars available and number of bananas: ').split()]\n",
    "\n",
    "k = x[0] ; n = x[1] ; w = x[2]\n",
    "cost = k*w*(w+1)/2\n",
    "\n",
    "print('Borrow ' + str(round(abs(cost - n))) + ' dollars') if cost > n else print('No need to borrow money')"
   ]
  },
  {
   "cell_type": "markdown",
   "id": "e8b6d2fe",
   "metadata": {},
   "source": [
    "## Problem 18: Elephant"
   ]
  },
  {
   "cell_type": "markdown",
   "id": "a0808409",
   "metadata": {},
   "source": [
    "An elephant is located at position 0. It can take a step from 1 to 5 meters long. We calculate the minimum number of steps needed to reach position *x*"
   ]
  },
  {
   "cell_type": "code",
   "execution_count": 18,
   "id": "5cebbc3b",
   "metadata": {},
   "outputs": [
    {
     "name": "stdout",
     "output_type": "stream",
     "text": [
      "12\n",
      "3\n"
     ]
    }
   ],
   "source": [
    "import math\n",
    "\n",
    "x = int(input())\n",
    "\n",
    "print(math.trunc(x/5) + 1) if x % 5 != 0 else x/5"
   ]
  },
  {
   "cell_type": "markdown",
   "id": "ab4a7aea",
   "metadata": {},
   "source": [
    "## Problem 19: Word"
   ]
  },
  {
   "cell_type": "markdown",
   "id": "5a187fa1",
   "metadata": {},
   "source": [
    "A word is rewritten fully in lowercase if its uppercase letters do not constitute a majority. "
   ]
  },
  {
   "cell_type": "code",
   "execution_count": 19,
   "id": "df482018",
   "metadata": {},
   "outputs": [
    {
     "name": "stdout",
     "output_type": "stream",
     "text": [
      "HoUse\n",
      "house\n"
     ]
    }
   ],
   "source": [
    "x = input()\n",
    "\n",
    "low = 0\n",
    "for i in x: \n",
    "    if i.islower(): low += 1 \n",
    "        \n",
    "print(x.lower()) if low >= len(x) - low else print(x.upper())"
   ]
  }
 ],
 "metadata": {
  "interpreter": {
   "hash": "31f2aee4e71d21fbe5cf8b01ff0e069b9275f58929596ceb00d14d90e3e16cd6"
  },
  "kernelspec": {
   "display_name": "Python 3 (ipykernel)",
   "language": "python",
   "name": "python3"
  },
  "language_info": {
   "codemirror_mode": {
    "name": "ipython",
    "version": 3
   },
   "file_extension": ".py",
   "mimetype": "text/x-python",
   "name": "python",
   "nbconvert_exporter": "python",
   "pygments_lexer": "ipython3",
   "version": "3.8.10"
  }
 },
 "nbformat": 4,
 "nbformat_minor": 5
}
