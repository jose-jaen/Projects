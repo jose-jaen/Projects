{
 "cells": [
  {
   "cell_type": "markdown",
   "id": "72359588",
   "metadata": {},
   "source": [
    "<h1><center>SENTIMENT ANALYSIS CODING SECTION</h1></center>"
   ]
  },
  {
   "cell_type": "markdown",
   "id": "bcd7d717",
   "metadata": {},
   "source": [
    "<h2><center>José Jaén Delgado</h2></center>"
   ]
  },
  {
   "cell_type": "markdown",
   "id": "d9a61e55",
   "metadata": {},
   "source": [
    "The present Python Jupyter notebook provides an in-depth look into the relevant code used to carry out the opinion mining project. From data engineering/cleaning processes to actual Machine Learning modelling, the reader may check the underlying operations that give substance to our Data Science Project"
   ]
  },
  {
   "cell_type": "markdown",
   "id": "51d3eba3",
   "metadata": {},
   "source": [
    "<h1><center>1. DATA ENGINEERING</h1></center>\n"
   ]
  },
  {
   "cell_type": "markdown",
   "id": "fb831cb3",
   "metadata": {},
   "source": [
    "## 1.1) Creating an SFrame "
   ]
  },
  {
   "cell_type": "markdown",
   "id": "2fa9c91f",
   "metadata": {},
   "source": [
    "In this section we manipulate and clean data with the view of procuring an SFrame that will eventually become our main working data environment"
   ]
  },
  {
   "cell_type": "markdown",
   "id": "69da9649",
   "metadata": {},
   "source": [
    "Firstly, we turn the JSON file containing the customer reviews and ratings into a pandas dataframe"
   ]
  },
  {
   "cell_type": "code",
   "execution_count": null,
   "id": "f8229c1e",
   "metadata": {},
   "outputs": [],
   "source": [
    "import pandas as pd\n",
    "import gzip\n",
    "\n",
    "## Algorithm that allows to open the gzip file containing the data\n",
    "\n",
    "def parse(path):\n",
    "  g = gzip.open(path, 'rb')\n",
    "  for l in g:\n",
    "    yield eval(l)\n",
    "\n",
    "## Creating the pandas dataframe that retrieves data from the JSON file via recursion from the previous algorithm\n",
    "\n",
    "def getDF(path):\n",
    "  i = 0\n",
    "  df = {}\n",
    "  for d in parse(path):\n",
    "    df[i] = d\n",
    "    i += 1\n",
    "  return pd.DataFrame.from_dict(df, orient = 'index')\n",
    "\n",
    "## Specifying the name of the resulting pandas dataframe\n",
    "\n",
    "df = getDF('reviews_Electronics_5.json.gz')"
   ]
  },
  {
   "cell_type": "markdown",
   "id": "b3a4ecd1",
   "metadata": {},
   "source": [
    "Let us take a look at our Amazon User data"
   ]
  },
  {
   "cell_type": "code",
   "execution_count": 3,
   "id": "12bcf0de",
   "metadata": {},
   "outputs": [
    {
     "data": {
      "text/html": [
       "<div>\n",
       "<style scoped>\n",
       "    .dataframe tbody tr th:only-of-type {\n",
       "        vertical-align: middle;\n",
       "    }\n",
       "\n",
       "    .dataframe tbody tr th {\n",
       "        vertical-align: top;\n",
       "    }\n",
       "\n",
       "    .dataframe thead th {\n",
       "        text-align: right;\n",
       "    }\n",
       "</style>\n",
       "<table border=\"1\" class=\"dataframe\">\n",
       "  <thead>\n",
       "    <tr style=\"text-align: right;\">\n",
       "      <th></th>\n",
       "      <th>reviewerID</th>\n",
       "      <th>asin</th>\n",
       "      <th>reviewerName</th>\n",
       "      <th>helpful</th>\n",
       "      <th>reviewText</th>\n",
       "      <th>overall</th>\n",
       "      <th>summary</th>\n",
       "      <th>unixReviewTime</th>\n",
       "      <th>reviewTime</th>\n",
       "    </tr>\n",
       "  </thead>\n",
       "  <tbody>\n",
       "    <tr>\n",
       "      <th>0</th>\n",
       "      <td>AO94DHGC771SJ</td>\n",
       "      <td>0528881469</td>\n",
       "      <td>amazdnu</td>\n",
       "      <td>[0, 0]</td>\n",
       "      <td>We got this GPS for my husband who is an (OTR)...</td>\n",
       "      <td>5.0</td>\n",
       "      <td>Gotta have GPS!</td>\n",
       "      <td>1370131200</td>\n",
       "      <td>06 2, 2013</td>\n",
       "    </tr>\n",
       "    <tr>\n",
       "      <th>1</th>\n",
       "      <td>AMO214LNFCEI4</td>\n",
       "      <td>0528881469</td>\n",
       "      <td>Amazon Customer</td>\n",
       "      <td>[12, 15]</td>\n",
       "      <td>I'm a professional OTR truck driver, and I bou...</td>\n",
       "      <td>1.0</td>\n",
       "      <td>Very Disappointed</td>\n",
       "      <td>1290643200</td>\n",
       "      <td>11 25, 2010</td>\n",
       "    </tr>\n",
       "    <tr>\n",
       "      <th>2</th>\n",
       "      <td>A3N7T0DY83Y4IG</td>\n",
       "      <td>0528881469</td>\n",
       "      <td>C. A. Freeman</td>\n",
       "      <td>[43, 45]</td>\n",
       "      <td>Well, what can I say.  I've had this unit in m...</td>\n",
       "      <td>3.0</td>\n",
       "      <td>1st impression</td>\n",
       "      <td>1283990400</td>\n",
       "      <td>09 9, 2010</td>\n",
       "    </tr>\n",
       "    <tr>\n",
       "      <th>3</th>\n",
       "      <td>A1H8PY3QHMQQA0</td>\n",
       "      <td>0528881469</td>\n",
       "      <td>Dave M. Shaw \"mack dave\"</td>\n",
       "      <td>[9, 10]</td>\n",
       "      <td>Not going to write a long review, even thought...</td>\n",
       "      <td>2.0</td>\n",
       "      <td>Great grafics, POOR GPS</td>\n",
       "      <td>1290556800</td>\n",
       "      <td>11 24, 2010</td>\n",
       "    </tr>\n",
       "    <tr>\n",
       "      <th>4</th>\n",
       "      <td>A24EV6RXELQZ63</td>\n",
       "      <td>0528881469</td>\n",
       "      <td>Wayne Smith</td>\n",
       "      <td>[0, 0]</td>\n",
       "      <td>I've had mine for a year and here's what we go...</td>\n",
       "      <td>1.0</td>\n",
       "      <td>Major issues, only excuses for support</td>\n",
       "      <td>1317254400</td>\n",
       "      <td>09 29, 2011</td>\n",
       "    </tr>\n",
       "    <tr>\n",
       "      <th>...</th>\n",
       "      <td>...</td>\n",
       "      <td>...</td>\n",
       "      <td>...</td>\n",
       "      <td>...</td>\n",
       "      <td>...</td>\n",
       "      <td>...</td>\n",
       "      <td>...</td>\n",
       "      <td>...</td>\n",
       "      <td>...</td>\n",
       "    </tr>\n",
       "    <tr>\n",
       "      <th>1689183</th>\n",
       "      <td>A34BZM6S9L7QI4</td>\n",
       "      <td>B00LGQ6HL8</td>\n",
       "      <td>Candy Cane \"Is it just me?\"</td>\n",
       "      <td>[1, 1]</td>\n",
       "      <td>Burned these in before listening to them for a...</td>\n",
       "      <td>5.0</td>\n",
       "      <td>Boom -- Pop -- Pow.  These deliver.</td>\n",
       "      <td>1405555200</td>\n",
       "      <td>07 17, 2014</td>\n",
       "    </tr>\n",
       "    <tr>\n",
       "      <th>1689184</th>\n",
       "      <td>A1G650TTTHEAL5</td>\n",
       "      <td>B00LGQ6HL8</td>\n",
       "      <td>Charles Spanky \"Zumina Reviews\"</td>\n",
       "      <td>[0, 0]</td>\n",
       "      <td>Some people like DJ style headphones or earbud...</td>\n",
       "      <td>5.0</td>\n",
       "      <td>Thin and light, without compromising on sound ...</td>\n",
       "      <td>1405382400</td>\n",
       "      <td>07 15, 2014</td>\n",
       "    </tr>\n",
       "    <tr>\n",
       "      <th>1689185</th>\n",
       "      <td>A25C2M3QF9G7OQ</td>\n",
       "      <td>B00LGQ6HL8</td>\n",
       "      <td>Comdet</td>\n",
       "      <td>[0, 0]</td>\n",
       "      <td>I&amp;#8217;m a big fan of the Brainwavz S1 (actua...</td>\n",
       "      <td>5.0</td>\n",
       "      <td>Same form factor and durability as the S1 with...</td>\n",
       "      <td>1405555200</td>\n",
       "      <td>07 17, 2014</td>\n",
       "    </tr>\n",
       "    <tr>\n",
       "      <th>1689186</th>\n",
       "      <td>A1E1LEVQ9VQNK</td>\n",
       "      <td>B00LGQ6HL8</td>\n",
       "      <td>J. Chambers</td>\n",
       "      <td>[0, 0]</td>\n",
       "      <td>I've used theBrainwavz S1 In Ear Headphones, a...</td>\n",
       "      <td>5.0</td>\n",
       "      <td>Superb audio quality in a very comfortable set...</td>\n",
       "      <td>1405641600</td>\n",
       "      <td>07 18, 2014</td>\n",
       "    </tr>\n",
       "    <tr>\n",
       "      <th>1689187</th>\n",
       "      <td>A2NYK9KWFMJV4Y</td>\n",
       "      <td>B00LGQ6HL8</td>\n",
       "      <td>Mike Tarrani \"Jazz Drummer\"</td>\n",
       "      <td>[0, 0]</td>\n",
       "      <td>Normally when I receive a review sample I can ...</td>\n",
       "      <td>5.0</td>\n",
       "      <td>Exceptional sound</td>\n",
       "      <td>1405209600</td>\n",
       "      <td>07 13, 2014</td>\n",
       "    </tr>\n",
       "  </tbody>\n",
       "</table>\n",
       "<p>1689188 rows × 9 columns</p>\n",
       "</div>"
      ],
      "text/plain": [
       "             reviewerID        asin                     reviewerName  \\\n",
       "0         AO94DHGC771SJ  0528881469                          amazdnu   \n",
       "1         AMO214LNFCEI4  0528881469                  Amazon Customer   \n",
       "2        A3N7T0DY83Y4IG  0528881469                    C. A. Freeman   \n",
       "3        A1H8PY3QHMQQA0  0528881469         Dave M. Shaw \"mack dave\"   \n",
       "4        A24EV6RXELQZ63  0528881469                      Wayne Smith   \n",
       "...                 ...         ...                              ...   \n",
       "1689183  A34BZM6S9L7QI4  B00LGQ6HL8      Candy Cane \"Is it just me?\"   \n",
       "1689184  A1G650TTTHEAL5  B00LGQ6HL8  Charles Spanky \"Zumina Reviews\"   \n",
       "1689185  A25C2M3QF9G7OQ  B00LGQ6HL8                           Comdet   \n",
       "1689186   A1E1LEVQ9VQNK  B00LGQ6HL8                      J. Chambers   \n",
       "1689187  A2NYK9KWFMJV4Y  B00LGQ6HL8      Mike Tarrani \"Jazz Drummer\"   \n",
       "\n",
       "          helpful                                         reviewText  overall  \\\n",
       "0          [0, 0]  We got this GPS for my husband who is an (OTR)...      5.0   \n",
       "1        [12, 15]  I'm a professional OTR truck driver, and I bou...      1.0   \n",
       "2        [43, 45]  Well, what can I say.  I've had this unit in m...      3.0   \n",
       "3         [9, 10]  Not going to write a long review, even thought...      2.0   \n",
       "4          [0, 0]  I've had mine for a year and here's what we go...      1.0   \n",
       "...           ...                                                ...      ...   \n",
       "1689183    [1, 1]  Burned these in before listening to them for a...      5.0   \n",
       "1689184    [0, 0]  Some people like DJ style headphones or earbud...      5.0   \n",
       "1689185    [0, 0]  I&#8217;m a big fan of the Brainwavz S1 (actua...      5.0   \n",
       "1689186    [0, 0]  I've used theBrainwavz S1 In Ear Headphones, a...      5.0   \n",
       "1689187    [0, 0]  Normally when I receive a review sample I can ...      5.0   \n",
       "\n",
       "                                                   summary  unixReviewTime  \\\n",
       "0                                          Gotta have GPS!      1370131200   \n",
       "1                                        Very Disappointed      1290643200   \n",
       "2                                           1st impression      1283990400   \n",
       "3                                  Great grafics, POOR GPS      1290556800   \n",
       "4                   Major issues, only excuses for support      1317254400   \n",
       "...                                                    ...             ...   \n",
       "1689183                Boom -- Pop -- Pow.  These deliver.      1405555200   \n",
       "1689184  Thin and light, without compromising on sound ...      1405382400   \n",
       "1689185  Same form factor and durability as the S1 with...      1405555200   \n",
       "1689186  Superb audio quality in a very comfortable set...      1405641600   \n",
       "1689187                                  Exceptional sound      1405209600   \n",
       "\n",
       "          reviewTime  \n",
       "0         06 2, 2013  \n",
       "1        11 25, 2010  \n",
       "2         09 9, 2010  \n",
       "3        11 24, 2010  \n",
       "4        09 29, 2011  \n",
       "...              ...  \n",
       "1689183  07 17, 2014  \n",
       "1689184  07 15, 2014  \n",
       "1689185  07 17, 2014  \n",
       "1689186  07 18, 2014  \n",
       "1689187  07 13, 2014  \n",
       "\n",
       "[1689188 rows x 9 columns]"
      ]
     },
     "execution_count": 3,
     "metadata": {},
     "output_type": "execute_result"
    }
   ],
   "source": [
    "df"
   ]
  },
  {
   "cell_type": "markdown",
   "id": "5cec5a65",
   "metadata": {},
   "source": [
    "Once the dataframe is set up and the JSON file parsed, we can read it and transform it into an SFrame"
   ]
  },
  {
   "cell_type": "markdown",
   "id": "28865f59",
   "metadata": {},
   "source": [
    "We can now comfortably read the data as an SFrame"
   ]
  },
  {
   "cell_type": "code",
   "execution_count": 1,
   "id": "b166eebe",
   "metadata": {},
   "outputs": [
    {
     "data": {
      "text/html": [
       "<pre>Finished parsing file /home/jose/Desktop/Mis cosas/Machine Learning Project/Electronics_5.json</pre>"
      ],
      "text/plain": [
       "Finished parsing file /home/jose/Desktop/Mis cosas/Machine Learning Project/Electronics_5.json"
      ]
     },
     "metadata": {},
     "output_type": "display_data"
    },
    {
     "data": {
      "text/html": [
       "<pre>Parsing completed. Parsed 100 lines in 0.26722 secs.</pre>"
      ],
      "text/plain": [
       "Parsing completed. Parsed 100 lines in 0.26722 secs."
      ]
     },
     "metadata": {},
     "output_type": "display_data"
    },
    {
     "name": "stdout",
     "output_type": "stream",
     "text": [
      "------------------------------------------------------\n",
      "Inferred types from first 100 line(s) of file as \n",
      "column_type_hints=[dict]\n",
      "If parsing fails due to incorrect types, you can correct\n",
      "the inferred type list above and pass it to read_csv in\n",
      "the column_type_hints argument\n",
      "------------------------------------------------------\n"
     ]
    },
    {
     "data": {
      "text/html": [
       "<pre>Read 62950 lines. Lines per second: 115403</pre>"
      ],
      "text/plain": [
       "Read 62950 lines. Lines per second: 115403"
      ]
     },
     "metadata": {},
     "output_type": "display_data"
    },
    {
     "data": {
      "text/html": [
       "<pre>Read 1090288 lines. Lines per second: 193058</pre>"
      ],
      "text/plain": [
       "Read 1090288 lines. Lines per second: 193058"
      ]
     },
     "metadata": {},
     "output_type": "display_data"
    },
    {
     "data": {
      "text/html": [
       "<pre>Finished parsing file /home/jose/Desktop/Mis cosas/Machine Learning Project/Electronics_5.json</pre>"
      ],
      "text/plain": [
       "Finished parsing file /home/jose/Desktop/Mis cosas/Machine Learning Project/Electronics_5.json"
      ]
     },
     "metadata": {},
     "output_type": "display_data"
    },
    {
     "data": {
      "text/html": [
       "<pre>Parsing completed. Parsed 1689188 lines in 9.23433 secs.</pre>"
      ],
      "text/plain": [
       "Parsing completed. Parsed 1689188 lines in 9.23433 secs."
      ]
     },
     "metadata": {},
     "output_type": "display_data"
    }
   ],
   "source": [
    "import turicreate as tc\n",
    "\n",
    "reviews = tc.SFrame.read_json('Electronics_5.json', orient = 'lines')"
   ]
  },
  {
   "cell_type": "markdown",
   "id": "da7e1506",
   "metadata": {},
   "source": [
    "## 1.2) Cleaning the SFrame"
   ]
  },
  {
   "cell_type": "markdown",
   "id": "3b9b0f04",
   "metadata": {},
   "source": [
    "We will now drop the data columns that play no relevant role in our opinion mining project"
   ]
  },
  {
   "cell_type": "code",
   "execution_count": 2,
   "id": "a4b0c6c0",
   "metadata": {},
   "outputs": [],
   "source": [
    "reviews = reviews.remove_columns(['helpful', 'unixReviewTime', 'reviewTime', 'summary'])"
   ]
  },
  {
   "cell_type": "markdown",
   "id": "baeb9a82",
   "metadata": {},
   "source": [
    "As there are thousands of reviews, it is imperative to make sure all of them are written in the English language. For such purpose, we will use the **langrid** package, obtaining probabilistic outputs relating to the likelihood of the user's language"
   ]
  },
  {
   "cell_type": "code",
   "execution_count": 3,
   "id": "4ff310a1",
   "metadata": {},
   "outputs": [],
   "source": [
    "from langid.langid import LanguageIdentifier, model\n",
    "\n",
    "identifier = LanguageIdentifier.from_modelstring(model, norm_probs = True)"
   ]
  },
  {
   "cell_type": "markdown",
   "id": "88360e88",
   "metadata": {},
   "source": [
    "We will now write an algorithm to coherce all of the review text into a string data type as it seems langid interpret some reviews as bytes"
   ]
  },
  {
   "cell_type": "code",
   "execution_count": 4,
   "id": "cf499c5e",
   "metadata": {},
   "outputs": [],
   "source": [
    "def comments_string(comments):\n",
    "    i = 0\n",
    "    comments_list = []\n",
    "    while i < len(comments):\n",
    "        i += 1\n",
    "        individual_comment = str(comments[i - 1])\n",
    "        comments_list.append(individual_comment)\n",
    "    return comments_list"
   ]
  },
  {
   "cell_type": "code",
   "execution_count": 5,
   "id": "3302ff67",
   "metadata": {},
   "outputs": [],
   "source": [
    "comments_transformed = comments_string(reviews['reviewText'])\n",
    "reviews.remove_column('reviewText')\n",
    "reviews['reviewText'] = comments_transformed"
   ]
  },
  {
   "cell_type": "markdown",
   "id": "c8f3dd6c",
   "metadata": {},
   "source": [
    "Continuing with the data engineering process, we will further polish the data by removing punctuation in the reviews with another algorithm that uses Python's built-in string functionality"
   ]
  },
  {
   "cell_type": "code",
   "execution_count": 6,
   "id": "52c082fa",
   "metadata": {},
   "outputs": [],
   "source": [
    "import string \n",
    "\n",
    "def remove_punctuation(text):\n",
    "    try:\n",
    "        text = text.translate(None, string.punctuation) \n",
    "    except: \n",
    "        translator = text.maketrans('', '', string.punctuation)\n",
    "        text = text.translate(translator)\n",
    "    return text\n",
    "\n",
    "reviews['reviewText'] = reviews['reviewText'].apply(remove_punctuation)"
   ]
  },
  {
   "cell_type": "markdown",
   "id": "c645b46a",
   "metadata": {},
   "source": [
    "Now it is possible to safely proceed to identify the language used by each user"
   ]
  },
  {
   "cell_type": "code",
   "execution_count": 7,
   "id": "cae0447e",
   "metadata": {},
   "outputs": [],
   "source": [
    "def languages(comments):\n",
    "    languages_list = []\n",
    "    for i in range(len(comments)):\n",
    "        language = identifier.classify(comments[i])[0]\n",
    "        languages_list.append(language)\n",
    "    return languages_list"
   ]
  },
  {
   "cell_type": "code",
   "execution_count": 8,
   "id": "482fe904",
   "metadata": {},
   "outputs": [],
   "source": [
    "language = languages(reviews['reviewText'])\n",
    "language_sarray = tc.SArray(language)\n",
    "reviews['language'] = language_sarray\n",
    "\n",
    "## May take a few minutes to classify each reviewer's language as there are thousands of it\n",
    "\n",
    "## Consequently, we will save a csv file once it has processed all of the information and read it from here on\n",
    "\n",
    "## Present workaround permits skipping this computationally intensive step every time I open the Jupyter notebook"
   ]
  },
  {
   "cell_type": "code",
   "execution_count": 11,
   "id": "1af5ba94",
   "metadata": {},
   "outputs": [],
   "source": [
    "reviews.save('amazon_reviews.csv', format = 'csv')"
   ]
  },
  {
   "cell_type": "code",
   "execution_count": 13,
   "id": "09f30004",
   "metadata": {},
   "outputs": [
    {
     "data": {
      "text/html": [
       "<pre>Finished parsing file /home/jose/Desktop/Mis cosas/Machine Learning Project/amazon_reviews.csv</pre>"
      ],
      "text/plain": [
       "Finished parsing file /home/jose/Desktop/Mis cosas/Machine Learning Project/amazon_reviews.csv"
      ]
     },
     "metadata": {},
     "output_type": "display_data"
    },
    {
     "data": {
      "text/html": [
       "<pre>Parsing completed. Parsed 100 lines in 0.245781 secs.</pre>"
      ],
      "text/plain": [
       "Parsing completed. Parsed 100 lines in 0.245781 secs."
      ]
     },
     "metadata": {},
     "output_type": "display_data"
    },
    {
     "data": {
      "text/html": [
       "<pre>Read 84509 lines. Lines per second: 257664</pre>"
      ],
      "text/plain": [
       "Read 84509 lines. Lines per second: 257664"
      ]
     },
     "metadata": {},
     "output_type": "display_data"
    },
    {
     "data": {
      "text/html": [
       "<pre>Read 1460380 lines. Lines per second: 272020</pre>"
      ],
      "text/plain": [
       "Read 1460380 lines. Lines per second: 272020"
      ]
     },
     "metadata": {},
     "output_type": "display_data"
    },
    {
     "data": {
      "text/html": [
       "<pre>Finished parsing file /home/jose/Desktop/Mis cosas/Machine Learning Project/amazon_reviews.csv</pre>"
      ],
      "text/plain": [
       "Finished parsing file /home/jose/Desktop/Mis cosas/Machine Learning Project/amazon_reviews.csv"
      ]
     },
     "metadata": {},
     "output_type": "display_data"
    },
    {
     "data": {
      "text/html": [
       "<pre>Parsing completed. Parsed 1689188 lines in 6.29191 secs.</pre>"
      ],
      "text/plain": [
       "Parsing completed. Parsed 1689188 lines in 6.29191 secs."
      ]
     },
     "metadata": {},
     "output_type": "display_data"
    }
   ],
   "source": [
    "## Reading the recently created csv file as an SFrame\n",
    "\n",
    "reviews = tc.SFrame.read_csv('amazon_reviews.csv',\n",
    "                             column_type_hints = {\n",
    "                             'reviewerID': str, 'asin': str,\n",
    "                             'reviewerName': str,'reviewText': str, \n",
    "                             'overall': float, 'language': str})"
   ]
  },
  {
   "cell_type": "markdown",
   "id": "e3a4a952",
   "metadata": {},
   "source": [
    "The SFrame below constitutes the definitive working environment for our sentiment analysis"
   ]
  },
  {
   "cell_type": "code",
   "execution_count": 14,
   "id": "d9e4de39",
   "metadata": {},
   "outputs": [
    {
     "data": {
      "text/html": [
       "<div style=\"max-height:1000px;max-width:1500px;overflow:auto;\"><table frame=\"box\" rules=\"cols\">\n",
       "    <tr>\n",
       "        <th style=\"padding-left: 1em; padding-right: 1em; text-align: center\">asin</th>\n",
       "        <th style=\"padding-left: 1em; padding-right: 1em; text-align: center\">overall</th>\n",
       "        <th style=\"padding-left: 1em; padding-right: 1em; text-align: center\">reviewText</th>\n",
       "        <th style=\"padding-left: 1em; padding-right: 1em; text-align: center\">reviewerID</th>\n",
       "        <th style=\"padding-left: 1em; padding-right: 1em; text-align: center\">reviewerName</th>\n",
       "        <th style=\"padding-left: 1em; padding-right: 1em; text-align: center\">language</th>\n",
       "    </tr>\n",
       "    <tr>\n",
       "        <td style=\"padding-left: 1em; padding-right: 1em; text-align: center; vertical-align: top\">0528881469</td>\n",
       "        <td style=\"padding-left: 1em; padding-right: 1em; text-align: center; vertical-align: top\">5.0</td>\n",
       "        <td style=\"padding-left: 1em; padding-right: 1em; text-align: center; vertical-align: top\">We got this GPS for my<br>husband who is an OTR ...</td>\n",
       "        <td style=\"padding-left: 1em; padding-right: 1em; text-align: center; vertical-align: top\">AO94DHGC771SJ</td>\n",
       "        <td style=\"padding-left: 1em; padding-right: 1em; text-align: center; vertical-align: top\">amazdnu</td>\n",
       "        <td style=\"padding-left: 1em; padding-right: 1em; text-align: center; vertical-align: top\">en</td>\n",
       "    </tr>\n",
       "    <tr>\n",
       "        <td style=\"padding-left: 1em; padding-right: 1em; text-align: center; vertical-align: top\">0528881469</td>\n",
       "        <td style=\"padding-left: 1em; padding-right: 1em; text-align: center; vertical-align: top\">1.0</td>\n",
       "        <td style=\"padding-left: 1em; padding-right: 1em; text-align: center; vertical-align: top\">Im a professional OTR<br>truck driver and I bo ...</td>\n",
       "        <td style=\"padding-left: 1em; padding-right: 1em; text-align: center; vertical-align: top\">AMO214LNFCEI4</td>\n",
       "        <td style=\"padding-left: 1em; padding-right: 1em; text-align: center; vertical-align: top\">Amazon Customer</td>\n",
       "        <td style=\"padding-left: 1em; padding-right: 1em; text-align: center; vertical-align: top\">en</td>\n",
       "    </tr>\n",
       "    <tr>\n",
       "        <td style=\"padding-left: 1em; padding-right: 1em; text-align: center; vertical-align: top\">0528881469</td>\n",
       "        <td style=\"padding-left: 1em; padding-right: 1em; text-align: center; vertical-align: top\">3.0</td>\n",
       "        <td style=\"padding-left: 1em; padding-right: 1em; text-align: center; vertical-align: top\">Well what can I say  Ive<br>had this unit in my t ...</td>\n",
       "        <td style=\"padding-left: 1em; padding-right: 1em; text-align: center; vertical-align: top\">A3N7T0DY83Y4IG</td>\n",
       "        <td style=\"padding-left: 1em; padding-right: 1em; text-align: center; vertical-align: top\">C. A. Freeman</td>\n",
       "        <td style=\"padding-left: 1em; padding-right: 1em; text-align: center; vertical-align: top\">en</td>\n",
       "    </tr>\n",
       "    <tr>\n",
       "        <td style=\"padding-left: 1em; padding-right: 1em; text-align: center; vertical-align: top\">0528881469</td>\n",
       "        <td style=\"padding-left: 1em; padding-right: 1em; text-align: center; vertical-align: top\">2.0</td>\n",
       "        <td style=\"padding-left: 1em; padding-right: 1em; text-align: center; vertical-align: top\">Not going to write a long<br>review even thought this ...</td>\n",
       "        <td style=\"padding-left: 1em; padding-right: 1em; text-align: center; vertical-align: top\">A1H8PY3QHMQQA0</td>\n",
       "        <td style=\"padding-left: 1em; padding-right: 1em; text-align: center; vertical-align: top\">Dave M. Shaw &quot;&quot;mack<br>dave&quot;&quot; ...</td>\n",
       "        <td style=\"padding-left: 1em; padding-right: 1em; text-align: center; vertical-align: top\">en</td>\n",
       "    </tr>\n",
       "    <tr>\n",
       "        <td style=\"padding-left: 1em; padding-right: 1em; text-align: center; vertical-align: top\">0528881469</td>\n",
       "        <td style=\"padding-left: 1em; padding-right: 1em; text-align: center; vertical-align: top\">1.0</td>\n",
       "        <td style=\"padding-left: 1em; padding-right: 1em; text-align: center; vertical-align: top\">Ive had mine for a year<br>and heres what we got It ...</td>\n",
       "        <td style=\"padding-left: 1em; padding-right: 1em; text-align: center; vertical-align: top\">A24EV6RXELQZ63</td>\n",
       "        <td style=\"padding-left: 1em; padding-right: 1em; text-align: center; vertical-align: top\">Wayne Smith</td>\n",
       "        <td style=\"padding-left: 1em; padding-right: 1em; text-align: center; vertical-align: top\">en</td>\n",
       "    </tr>\n",
       "    <tr>\n",
       "        <td style=\"padding-left: 1em; padding-right: 1em; text-align: center; vertical-align: top\">0594451647</td>\n",
       "        <td style=\"padding-left: 1em; padding-right: 1em; text-align: center; vertical-align: top\">5.0</td>\n",
       "        <td style=\"padding-left: 1em; padding-right: 1em; text-align: center; vertical-align: top\">I am using this with a<br>Nook HD It works as ...</td>\n",
       "        <td style=\"padding-left: 1em; padding-right: 1em; text-align: center; vertical-align: top\">A2JXAZZI9PHK9Z</td>\n",
       "        <td style=\"padding-left: 1em; padding-right: 1em; text-align: center; vertical-align: top\">Billy G. Noland &quot;&quot;Bill<br>Noland&quot;&quot; ...</td>\n",
       "        <td style=\"padding-left: 1em; padding-right: 1em; text-align: center; vertical-align: top\">en</td>\n",
       "    </tr>\n",
       "    <tr>\n",
       "        <td style=\"padding-left: 1em; padding-right: 1em; text-align: center; vertical-align: top\">0594451647</td>\n",
       "        <td style=\"padding-left: 1em; padding-right: 1em; text-align: center; vertical-align: top\">2.0</td>\n",
       "        <td style=\"padding-left: 1em; padding-right: 1em; text-align: center; vertical-align: top\">The cable is very wobbly<br>and sometimes disconn ...</td>\n",
       "        <td style=\"padding-left: 1em; padding-right: 1em; text-align: center; vertical-align: top\">A2P5U7BDKKT7FW</td>\n",
       "        <td style=\"padding-left: 1em; padding-right: 1em; text-align: center; vertical-align: top\">Christian</td>\n",
       "        <td style=\"padding-left: 1em; padding-right: 1em; text-align: center; vertical-align: top\">en</td>\n",
       "    </tr>\n",
       "    <tr>\n",
       "        <td style=\"padding-left: 1em; padding-right: 1em; text-align: center; vertical-align: top\">0594451647</td>\n",
       "        <td style=\"padding-left: 1em; padding-right: 1em; text-align: center; vertical-align: top\">5.0</td>\n",
       "        <td style=\"padding-left: 1em; padding-right: 1em; text-align: center; vertical-align: top\">This adaptor is real easy<br>to setup and use right ...</td>\n",
       "        <td style=\"padding-left: 1em; padding-right: 1em; text-align: center; vertical-align: top\">AAZ084UMH8VZ2</td>\n",
       "        <td style=\"padding-left: 1em; padding-right: 1em; text-align: center; vertical-align: top\">D. L. Brown &quot;&quot;A Knower Of<br>Good Things&quot;&quot; ...</td>\n",
       "        <td style=\"padding-left: 1em; padding-right: 1em; text-align: center; vertical-align: top\">en</td>\n",
       "    </tr>\n",
       "    <tr>\n",
       "        <td style=\"padding-left: 1em; padding-right: 1em; text-align: center; vertical-align: top\">0594451647</td>\n",
       "        <td style=\"padding-left: 1em; padding-right: 1em; text-align: center; vertical-align: top\">4.0</td>\n",
       "        <td style=\"padding-left: 1em; padding-right: 1em; text-align: center; vertical-align: top\">This adapter easily<br>connects my Nook HD 734 ...</td>\n",
       "        <td style=\"padding-left: 1em; padding-right: 1em; text-align: center; vertical-align: top\">AEZ3CR6BKIROJ</td>\n",
       "        <td style=\"padding-left: 1em; padding-right: 1em; text-align: center; vertical-align: top\">Mark Dietter</td>\n",
       "        <td style=\"padding-left: 1em; padding-right: 1em; text-align: center; vertical-align: top\">en</td>\n",
       "    </tr>\n",
       "    <tr>\n",
       "        <td style=\"padding-left: 1em; padding-right: 1em; text-align: center; vertical-align: top\">0594451647</td>\n",
       "        <td style=\"padding-left: 1em; padding-right: 1em; text-align: center; vertical-align: top\">5.0</td>\n",
       "        <td style=\"padding-left: 1em; padding-right: 1em; text-align: center; vertical-align: top\">This product really works<br>great but I found the ...</td>\n",
       "        <td style=\"padding-left: 1em; padding-right: 1em; text-align: center; vertical-align: top\">A3BY5KCNQZXV5U</td>\n",
       "        <td style=\"padding-left: 1em; padding-right: 1em; text-align: center; vertical-align: top\">Matenai</td>\n",
       "        <td style=\"padding-left: 1em; padding-right: 1em; text-align: center; vertical-align: top\">en</td>\n",
       "    </tr>\n",
       "</table>\n",
       "[1689188 rows x 6 columns]<br/>Note: Only the head of the SFrame is printed.<br/>You can use print_rows(num_rows=m, num_columns=n) to print more rows and columns.\n",
       "</div>"
      ],
      "text/plain": [
       "Columns:\n",
       "\tasin\tstr\n",
       "\toverall\tfloat\n",
       "\treviewText\tstr\n",
       "\treviewerID\tstr\n",
       "\treviewerName\tstr\n",
       "\tlanguage\tstr\n",
       "\n",
       "Rows: 1689188\n",
       "\n",
       "Data:\n",
       "+------------+---------+-------------------------------+----------------+\n",
       "|    asin    | overall |           reviewText          |   reviewerID   |\n",
       "+------------+---------+-------------------------------+----------------+\n",
       "| 0528881469 |   5.0   | We got this GPS for my hus... | AO94DHGC771SJ  |\n",
       "| 0528881469 |   1.0   | Im a professional OTR truc... | AMO214LNFCEI4  |\n",
       "| 0528881469 |   3.0   | Well what can I say  Ive h... | A3N7T0DY83Y4IG |\n",
       "| 0528881469 |   2.0   | Not going to write a long ... | A1H8PY3QHMQQA0 |\n",
       "| 0528881469 |   1.0   | Ive had mine for a year an... | A24EV6RXELQZ63 |\n",
       "| 0594451647 |   5.0   | I am using this with a Noo... | A2JXAZZI9PHK9Z |\n",
       "| 0594451647 |   2.0   | The cable is very wobbly a... | A2P5U7BDKKT7FW |\n",
       "| 0594451647 |   5.0   | This adaptor is real easy ... | AAZ084UMH8VZ2  |\n",
       "| 0594451647 |   4.0   | This adapter easily connec... | AEZ3CR6BKIROJ  |\n",
       "| 0594451647 |   5.0   | This product really works ... | A3BY5KCNQZXV5U |\n",
       "+------------+---------+-------------------------------+----------------+\n",
       "+-------------------------------+----------+\n",
       "|          reviewerName         | language |\n",
       "+-------------------------------+----------+\n",
       "|            amazdnu            |    en    |\n",
       "|        Amazon Customer        |    en    |\n",
       "|         C. A. Freeman         |    en    |\n",
       "|   Dave M. Shaw \"\"mack dave\"\"  |    en    |\n",
       "|          Wayne Smith          |    en    |\n",
       "| Billy G. Noland \"\"Bill Nol... |    en    |\n",
       "|           Christian           |    en    |\n",
       "| D. L. Brown \"\"A Knower Of ... |    en    |\n",
       "|          Mark Dietter         |    en    |\n",
       "|            Matenai            |    en    |\n",
       "+-------------------------------+----------+\n",
       "[1689188 rows x 6 columns]\n",
       "Note: Only the head of the SFrame is printed.\n",
       "You can use print_rows(num_rows=m, num_columns=n) to print more rows and columns."
      ]
     },
     "execution_count": 14,
     "metadata": {},
     "output_type": "execute_result"
    }
   ],
   "source": [
    "reviews"
   ]
  },
  {
   "cell_type": "markdown",
   "id": "f8e81a35",
   "metadata": {},
   "source": [
    "<h1><center>2. DATA EXPLORATION</h1></center>"
   ]
  },
  {
   "cell_type": "markdown",
   "id": "adcf9a44",
   "metadata": {},
   "source": [
    "Let us see how many reviews are there in our dataset"
   ]
  },
  {
   "cell_type": "code",
   "execution_count": 15,
   "id": "37604948",
   "metadata": {},
   "outputs": [
    {
     "name": "stdout",
     "output_type": "stream",
     "text": [
      "Number of reviews: 1689188\n"
     ]
    }
   ],
   "source": [
    "print('Number of reviews: %d' % len(reviews['reviewText']))"
   ]
  },
  {
   "cell_type": "markdown",
   "id": "bbf39ad4",
   "metadata": {},
   "source": [
    "It is highly unlikely that 201754 users reviewed thousands of products. Thus, a more specific analysis is crucial"
   ]
  },
  {
   "cell_type": "code",
   "execution_count": 16,
   "id": "da750554",
   "metadata": {},
   "outputs": [
    {
     "name": "stdout",
     "output_type": "stream",
     "text": [
      "Number of distinct reviewers: 192403\n",
      "Number of distinct reviewed products: 63001\n",
      "Minimum rating score: 1\n",
      "Maximum rating score: 5\n"
     ]
    }
   ],
   "source": [
    "print('Number of distinct reviewers: %d' % len(reviews['reviewerID'].unique()))\n",
    "print('Number of distinct reviewed products: %d' % len(reviews['asin'].unique()))\n",
    "print('Minimum rating score: %d' % reviews['overall'].min())\n",
    "print('Maximum rating score: %d' % reviews['overall'].max())"
   ]
  },
  {
   "cell_type": "markdown",
   "id": "f324232a",
   "metadata": {},
   "source": [
    "As suspected, there are less distinct users than reviews, owing to the fact that Amazon customers buy multiple items and consequently write different product comments.\n",
    "\n",
    "Let's check if English is the only language used by reviewers by writing a simple laguange identifier algorithm"
   ]
  },
  {
   "cell_type": "code",
   "execution_count": 17,
   "id": "1aa47b2b",
   "metadata": {},
   "outputs": [
    {
     "data": {
      "text/plain": [
       "'Every comment was made in English'"
      ]
     },
     "execution_count": 17,
     "metadata": {},
     "output_type": "execute_result"
    }
   ],
   "source": [
    "def english_identifier(languages):\n",
    "    non_english = []\n",
    "    for i in languages:\n",
    "        if i != 'en':\n",
    "            lang = i\n",
    "            non_english.append(lang)\n",
    "            return non_english\n",
    "        else:\n",
    "            return 'Every comment was made in English'\n",
    "\n",
    "english_identifier(reviews['language'])"
   ]
  },
  {
   "cell_type": "markdown",
   "id": "5bd1ef13",
   "metadata": {},
   "source": [
    "Luckily, we are dealing with a monolingual dataset. Otherwise our NLP task would get more complex"
   ]
  },
  {
   "cell_type": "code",
   "execution_count": null,
   "id": "d2cf653b",
   "metadata": {},
   "outputs": [],
   "source": []
  },
  {
   "cell_type": "code",
   "execution_count": 30,
   "id": "be1a1a70",
   "metadata": {},
   "outputs": [
    {
     "data": {
      "text/plain": [
       "('en', 1.0)"
      ]
     },
     "execution_count": 30,
     "metadata": {},
     "output_type": "execute_result"
    }
   ],
   "source": []
  },
  {
   "cell_type": "code",
   "execution_count": null,
   "id": "a87e9a60",
   "metadata": {},
   "outputs": [],
   "source": []
  }
 ],
 "metadata": {
  "kernelspec": {
   "display_name": "Python 3 (ipykernel)",
   "language": "python",
   "name": "python3"
  },
  "language_info": {
   "codemirror_mode": {
    "name": "ipython",
    "version": 3
   },
   "file_extension": ".py",
   "mimetype": "text/x-python",
   "name": "python",
   "nbconvert_exporter": "python",
   "pygments_lexer": "ipython3",
   "version": "3.8.10"
  }
 },
 "nbformat": 4,
 "nbformat_minor": 5
}
